{
 "cells": [
  {
   "cell_type": "code",
   "execution_count": null,
   "id": "d165cf0e",
   "metadata": {},
   "outputs": [
    {
     "name": "stdout",
     "output_type": "stream",
     "text": [
      "env: SUMO_HOME=\"/Library/Frameworks/EclipseSUMO.framework/Versions/1.22.0/EclipseSUMO/share/sumo\"\n",
      "env: LIBSUMO_AS_TRACI=1\n",
      "env: PATH=$PATH:/Library/Frameworks/EclipseSUMO.framework/Versions/1.22.0/EclipseSUMO/share/sumo/bin\n"
     ]
    }
   ],
   "source": [
    "# %env SUMO_HOME=\"/Library/Frameworks/EclipseSUMO.framework/Versions/1.22.0/EclipseSUMO/share/sumo\"\n",
    "# %env LIBSUMO_AS_TRACI=1\n",
    "# %env PATH=$PATH:/Library/Frameworks/EclipseSUMO.framework/Versions/1.22.0/EclipseSUMO/share/sumo/bin\n"
   ]
  },
  {
   "cell_type": "code",
   "execution_count": 2,
   "id": "0a15c046",
   "metadata": {},
   "outputs": [
    {
     "name": "stderr",
     "output_type": "stream",
     "text": [
      "/Users/atharva/Documents/CSE/RL/rl-final/ve/lib/python3.9/site-packages/traci/__init__.py:41: UserWarning: Could not import libsumo, falling back to pure python traci (No module named 'libsumo').\n",
      "  warnings.warn(\"Could not import libsumo, falling back to pure python traci (%s).\" % e)\n"
     ]
    }
   ],
   "source": [
    "import torch\n",
    "import numpy as np\n",
    "import gymnasium as gym\n",
    "from gymnasium import spaces\n",
    "from copy import deepcopy\n",
    "import matplotlib.pyplot as plt\n",
    "import torch.nn as nn\n",
    "from matplotlib.offsetbox import OffsetImage, AnnotationBbox\n",
    "\n",
    "import os\n",
    "import sys\n",
    "import matplotlib.pyplot as plt\n",
    "\n",
    "if \"SUMO_HOME\" in os.environ:\n",
    "    tools = os.path.join(os.environ[\"SUMO_HOME\"], \"tools\")\n",
    "    sys.path.append(tools)\n",
    "else:\n",
    "    sys.exit(\"Please declare the environment variable 'SUMO_HOME'\")\n",
    "\n",
    "from env import SumoEnvironment\n",
    "from sumo_rl.agents import QLAgent\n",
    "from sumo_rl.exploration import EpsilonGreedy\n",
    "\n",
    "from custom_observation import CustomEmergencyObservationFunction\n",
    "from custom_reward import emergency_reward_fn"
   ]
  },
  {
   "cell_type": "code",
   "execution_count": 3,
   "id": "380bf392",
   "metadata": {},
   "outputs": [],
   "source": [
    "class DQNetwork(nn.Module):\n",
    "    def __init__(self, inp_size, op_size):\n",
    "        super(DQNetwork, self).__init__()\n",
    "        self.activation = nn.ReLU()\n",
    "        self.hl1 = nn.Linear(inp_size, 128)\n",
    "        self.hl2 = nn.Linear(128, 128)\n",
    "        self.fc = nn.Linear(128, op_size)\n",
    "        self.init_weights()\n",
    "    \n",
    "    def init_weights(self):\n",
    "        torch.nn.init.xavier_normal_(self.hl1.weight)\n",
    "        torch.nn.init.xavier_normal_(self.hl2.weight)\n",
    "        torch.nn.init.xavier_normal_(self.fc.weight)\n",
    "        torch.nn.init.zeros_(self.hl1.bias)\n",
    "        torch.nn.init.zeros_(self.hl2.bias)\n",
    "        torch.nn.init.zeros_(self.fc.bias)\n",
    "    \n",
    "    def forward(self, x):\n",
    "        x = self.hl1(x)\n",
    "        x = self.activation(x)\n",
    "        x = self.hl2(x)\n",
    "        x = self.activation(x)\n",
    "        x = self.fc(x)\n",
    "        return x"
   ]
  },
  {
   "cell_type": "code",
   "execution_count": 4,
   "id": "367620a6",
   "metadata": {},
   "outputs": [],
   "source": [
    "class GreedyAgent:\n",
    "    \n",
    "    def __init__(self, model, env, initial_epsilon, epsilon_decay, final_epsilon, discount_factor, num_episodes=1000):\n",
    "        self.env = env\n",
    "        self.model = model\n",
    "        self.observation_space = env.observation_space\n",
    "        self.action_space = env.action_space\n",
    "        self.discount_factor = discount_factor\n",
    "\n",
    "        self.epsilon = initial_epsilon\n",
    "        self.epsilon_decay = epsilon_decay\n",
    "        self.final_epsilon = final_epsilon\n",
    "        \n",
    "    def step(self, obs, train=True):\n",
    "        if train:\n",
    "            if np.random.random() < self.epsilon:\n",
    "                return self.action_space.sample()\n",
    "            else:\n",
    "                self.model.eval()\n",
    "                with torch.no_grad():\n",
    "                    output = self.model(torch.from_numpy(obs['t']).to(dtype=torch.float32))\n",
    "                    return torch.argmax(output).item()\n",
    "        else:\n",
    "            self.model.eval()\n",
    "            with torch.no_grad():\n",
    "                output = self.model(torch.from_numpy(obs['t']).to(dtype=torch.float32))\n",
    "                return torch.argmax(output).item()\n",
    "        \n",
    "\n",
    "    def decay(self):\n",
    "        self.epsilon = max(self.final_epsilon, self.epsilon * self.epsilon_decay)"
   ]
  },
  {
   "cell_type": "code",
   "execution_count": 5,
   "id": "cae6952a",
   "metadata": {},
   "outputs": [
    {
     "name": "stderr",
     "output_type": "stream",
     "text": [
      "Warning: Environment variable SUMO_HOME is not set properly, disabling XML validation. Set 'auto' or 'always' for web lookups.\n"
     ]
    },
    {
     "name": "stdout",
     "output_type": "stream",
     "text": [
      " Retrying in 1 seconds\n",
      "Step #0.00 (0ms ?*RT. ?UPS, TraCI: 8ms, vehicles TOT 0 ACT 0 BUF 0)                      \n"
     ]
    }
   ],
   "source": [
    "env = SumoEnvironment(\n",
    "        net_file=\"single-intersection/single-intersection.net.xml\",\n",
    "        route_file=\"single-intersection/single-intersection.rou.xml\",\n",
    "        out_csv_name=\"out_csv\",\n",
    "        use_gui=False,\n",
    "        num_seconds=500,\n",
    "        min_green=5,\n",
    "        max_green=10,\n",
    "        observation_class = CustomEmergencyObservationFunction,\n",
    "        reward_fn = emergency_reward_fn\n",
    "    )"
   ]
  },
  {
   "cell_type": "code",
   "execution_count": 6,
   "id": "090cb0d7",
   "metadata": {},
   "outputs": [],
   "source": [
    "# training params\n",
    "BUFFER_SIZE = 500\n",
    "batch_size = 32\n",
    "sync_target_step = 300\n",
    "train_every_step = 1\n",
    "episodes = 200\n",
    "replay_buffer = torch.zeros((BUFFER_SIZE, 12 + 1 + 1 + 12 + 1), dtype = torch.float32) #[sx9, a, r, s'x9, terminate flag]\n",
    "learning_rate = 0.01\n",
    "\n",
    "#agent params\n",
    "start_epsilon = 1\n",
    "final_epsilon = 0.01\n",
    "epsilon_decay = (final_epsilon/start_epsilon)**(1/episodes)  # exponential decay\n",
    "discount_factor = 0.99\n",
    "\n",
    "# model init\n",
    "# print(env.observation_space.shape[0])\n",
    "\n",
    "model = DQNetwork(12, env.action_space.n)\n",
    "target_model = deepcopy(model)\n",
    "# m = torch.load(\"./pthbackup/emergency_dqn.pth\")\n",
    "# model.load_state_dict(m)\n",
    "agent = GreedyAgent(model, env, start_epsilon, epsilon_decay, final_epsilon, discount_factor)\n",
    "\n",
    "# optimizer and criterion\n",
    "optimizer = torch.optim.AdamW(model.parameters(), lr=learning_rate)\n",
    "criterion = torch.nn.MSELoss()"
   ]
  },
  {
   "cell_type": "code",
   "execution_count": 7,
   "id": "dbf1d003",
   "metadata": {},
   "outputs": [
    {
     "name": "stdout",
     "output_type": "stream",
     "text": [
      "Episode:  0\n",
      " Retrying in 1 seconds\n"
     ]
    },
    {
     "name": "stderr",
     "output_type": "stream",
     "text": [
      "Warning: Environment variable SUMO_HOME is not set properly, disabling XML validation. Set 'auto' or 'always' for web lookups.\n"
     ]
    },
    {
     "name": "stdout",
     "output_type": "stream",
     "text": [
      "Step #500.00 (0ms ?*RT. ?UPS, TraCI: 16ms, vehicles TOT 313 ACT 40 BUF 46)                \n",
      "Episode:  1\n",
      " Retrying in 1 seconds\n"
     ]
    },
    {
     "name": "stderr",
     "output_type": "stream",
     "text": [
      "Warning: Environment variable SUMO_HOME is not set properly, disabling XML validation. Set 'auto' or 'always' for web lookups.\n"
     ]
    },
    {
     "name": "stdout",
     "output_type": "stream",
     "text": [
      "Step #500.00 (0ms ?*RT. ?UPS, TraCI: 16ms, vehicles TOT 324 ACT 37 BUF 49)                \n",
      "Episode:  2\n",
      " Retrying in 1 seconds\n"
     ]
    },
    {
     "name": "stderr",
     "output_type": "stream",
     "text": [
      "Warning: Environment variable SUMO_HOME is not set properly, disabling XML validation. Set 'auto' or 'always' for web lookups.\n"
     ]
    },
    {
     "name": "stdout",
     "output_type": "stream",
     "text": [
      "Step #500.00 (0ms ?*RT. ?UPS, TraCI: 17ms, vehicles TOT 296 ACT 39 BUF 53)                \n",
      "Episode:  3\n",
      " Retrying in 1 seconds\n"
     ]
    },
    {
     "name": "stderr",
     "output_type": "stream",
     "text": [
      "Warning: Environment variable SUMO_HOME is not set properly, disabling XML validation. Set 'auto' or 'always' for web lookups.\n"
     ]
    },
    {
     "name": "stdout",
     "output_type": "stream",
     "text": [
      "Step #500.00 (0ms ?*RT. ?UPS, TraCI: 17ms, vehicles TOT 356 ACT 39 BUF 19)                \n",
      "Episode:  4\n",
      " Retrying in 1 seconds\n"
     ]
    },
    {
     "name": "stderr",
     "output_type": "stream",
     "text": [
      "Warning: Environment variable SUMO_HOME is not set properly, disabling XML validation. Set 'auto' or 'always' for web lookups.\n"
     ]
    },
    {
     "name": "stdout",
     "output_type": "stream",
     "text": [
      "Step #500.00 (0ms ?*RT. ?UPS, TraCI: 17ms, vehicles TOT 318 ACT 38 BUF 28)                \n",
      "Episode:  5\n",
      " Retrying in 1 seconds\n"
     ]
    },
    {
     "name": "stderr",
     "output_type": "stream",
     "text": [
      "Warning: Environment variable SUMO_HOME is not set properly, disabling XML validation. Set 'auto' or 'always' for web lookups.\n"
     ]
    },
    {
     "name": "stdout",
     "output_type": "stream",
     "text": [
      "Step #500.00 (1ms ~= 1000.00*RT, ~39000.00UPS, TraCI: 16ms, vehicles TOT 337 ACT 39 BUF 25\n",
      "Episode:  6\n",
      " Retrying in 1 seconds\n"
     ]
    },
    {
     "name": "stderr",
     "output_type": "stream",
     "text": [
      "Warning: Environment variable SUMO_HOME is not set properly, disabling XML validation. Set 'auto' or 'always' for web lookups.\n"
     ]
    },
    {
     "name": "stdout",
     "output_type": "stream",
     "text": [
      "Step #500.00 (0ms ?*RT. ?UPS, TraCI: 14ms, vehicles TOT 315 ACT 36 BUF 27)                \n",
      "Episode:  7\n",
      " Retrying in 1 seconds\n"
     ]
    },
    {
     "name": "stderr",
     "output_type": "stream",
     "text": [
      "Warning: Environment variable SUMO_HOME is not set properly, disabling XML validation. Set 'auto' or 'always' for web lookups.\n"
     ]
    },
    {
     "name": "stdout",
     "output_type": "stream",
     "text": [
      "Step #500.00 (1ms ~= 1000.00*RT, ~38000.00UPS, TraCI: 16ms, vehicles TOT 305 ACT 38 BUF 51\n",
      "Episode:  8\n",
      " Retrying in 1 seconds\n"
     ]
    },
    {
     "name": "stderr",
     "output_type": "stream",
     "text": [
      "Warning: Environment variable SUMO_HOME is not set properly, disabling XML validation. Set 'auto' or 'always' for web lookups.\n"
     ]
    },
    {
     "name": "stdout",
     "output_type": "stream",
     "text": [
      "Step #500.00 (0ms ?*RT. ?UPS, TraCI: 16ms, vehicles TOT 335 ACT 39 BUF 24)                \n",
      "Episode:  9\n",
      " Retrying in 1 seconds\n"
     ]
    },
    {
     "name": "stderr",
     "output_type": "stream",
     "text": [
      "Warning: Environment variable SUMO_HOME is not set properly, disabling XML validation. Set 'auto' or 'always' for web lookups.\n"
     ]
    },
    {
     "name": "stdout",
     "output_type": "stream",
     "text": [
      "Step #500.00 (0ms ?*RT. ?UPS, TraCI: 14ms, vehicles TOT 353 ACT 37 BUF 5)                 \n",
      "Episode:  10\n",
      " Retrying in 1 seconds\n"
     ]
    },
    {
     "name": "stderr",
     "output_type": "stream",
     "text": [
      "Warning: Environment variable SUMO_HOME is not set properly, disabling XML validation. Set 'auto' or 'always' for web lookups.\n"
     ]
    },
    {
     "name": "stdout",
     "output_type": "stream",
     "text": [
      "Step #500.00 (0ms ?*RT. ?UPS, TraCI: 13ms, vehicles TOT 359 ACT 33 BUF 0)                 \n",
      "Episode:  11\n",
      " Retrying in 1 seconds\n"
     ]
    },
    {
     "name": "stderr",
     "output_type": "stream",
     "text": [
      "Warning: Environment variable SUMO_HOME is not set properly, disabling XML validation. Set 'auto' or 'always' for web lookups.\n"
     ]
    },
    {
     "name": "stdout",
     "output_type": "stream",
     "text": [
      "Step #500.00 (0ms ?*RT. ?UPS, TraCI: 16ms, vehicles TOT 346 ACT 40 BUF 12)                \n",
      "Episode:  12\n",
      " Retrying in 1 seconds\n"
     ]
    },
    {
     "name": "stderr",
     "output_type": "stream",
     "text": [
      "Warning: Environment variable SUMO_HOME is not set properly, disabling XML validation. Set 'auto' or 'always' for web lookups.\n"
     ]
    },
    {
     "name": "stdout",
     "output_type": "stream",
     "text": [
      "Step #500.00 (0ms ?*RT. ?UPS, TraCI: 18ms, vehicles TOT 341 ACT 44 BUF 0)                 \n",
      "Episode:  13\n",
      " Retrying in 1 seconds\n"
     ]
    },
    {
     "name": "stderr",
     "output_type": "stream",
     "text": [
      "Warning: Environment variable SUMO_HOME is not set properly, disabling XML validation. Set 'auto' or 'always' for web lookups.\n"
     ]
    },
    {
     "name": "stdout",
     "output_type": "stream",
     "text": [
      "Step #500.00 (0ms ?*RT. ?UPS, TraCI: 16ms, vehicles TOT 259 ACT 37 BUF 82)                \n",
      "Episode:  14\n",
      " Retrying in 1 seconds\n"
     ]
    },
    {
     "name": "stderr",
     "output_type": "stream",
     "text": [
      "Warning: Environment variable SUMO_HOME is not set properly, disabling XML validation. Set 'auto' or 'always' for web lookups.\n"
     ]
    },
    {
     "name": "stdout",
     "output_type": "stream",
     "text": [
      "Step #500.00 (0ms ?*RT. ?UPS, TraCI: 17ms, vehicles TOT 293 ACT 40 BUF 60)                \n",
      "Episode:  15\n",
      " Retrying in 1 seconds\n"
     ]
    },
    {
     "name": "stderr",
     "output_type": "stream",
     "text": [
      "Warning: Environment variable SUMO_HOME is not set properly, disabling XML validation. Set 'auto' or 'always' for web lookups.\n"
     ]
    },
    {
     "name": "stdout",
     "output_type": "stream",
     "text": [
      "Step #500.00 (0ms ?*RT. ?UPS, TraCI: 15ms, vehicles TOT 298 ACT 38 BUF 67)                \n",
      "Episode:  16\n",
      " Retrying in 1 seconds\n"
     ]
    },
    {
     "name": "stderr",
     "output_type": "stream",
     "text": [
      "Warning: Environment variable SUMO_HOME is not set properly, disabling XML validation. Set 'auto' or 'always' for web lookups.\n"
     ]
    },
    {
     "name": "stdout",
     "output_type": "stream",
     "text": [
      "Step #500.00 (0ms ?*RT. ?UPS, TraCI: 18ms, vehicles TOT 318 ACT 41 BUF 35)                \n",
      "Episode:  17\n",
      " Retrying in 1 seconds\n"
     ]
    },
    {
     "name": "stderr",
     "output_type": "stream",
     "text": [
      "Warning: Environment variable SUMO_HOME is not set properly, disabling XML validation. Set 'auto' or 'always' for web lookups.\n"
     ]
    },
    {
     "name": "stdout",
     "output_type": "stream",
     "text": [
      "Step #500.00 (0ms ?*RT. ?UPS, TraCI: 13ms, vehicles TOT 371 ACT 34 BUF 0)                 \n",
      "Episode:  18\n",
      " Retrying in 1 seconds\n"
     ]
    },
    {
     "name": "stderr",
     "output_type": "stream",
     "text": [
      "Warning: Environment variable SUMO_HOME is not set properly, disabling XML validation. Set 'auto' or 'always' for web lookups.\n"
     ]
    },
    {
     "name": "stdout",
     "output_type": "stream",
     "text": [
      "Step #500.00 (0ms ?*RT. ?UPS, TraCI: 13ms, vehicles TOT 364 ACT 31 BUF 0)                 \n",
      "Episode:  19\n",
      " Retrying in 1 seconds\n"
     ]
    },
    {
     "name": "stderr",
     "output_type": "stream",
     "text": [
      "Warning: Environment variable SUMO_HOME is not set properly, disabling XML validation. Set 'auto' or 'always' for web lookups.\n"
     ]
    },
    {
     "name": "stdout",
     "output_type": "stream",
     "text": [
      "Step #500.00 (0ms ?*RT. ?UPS, TraCI: 14ms, vehicles TOT 355 ACT 34 BUF 0)                 \n",
      "Episode:  20\n",
      " Retrying in 1 seconds\n"
     ]
    },
    {
     "name": "stderr",
     "output_type": "stream",
     "text": [
      "Warning: Environment variable SUMO_HOME is not set properly, disabling XML validation. Set 'auto' or 'always' for web lookups.\n",
      "Warning: Vehicle 'flow_emergency_ns_1.0' performs emergency braking on lane 'n_t_0' with decel=9.00, wished=4.50, severity=1.00, time=106.00.\n"
     ]
    },
    {
     "name": "stdout",
     "output_type": "stream",
     "text": [
      "Step #500.00 (0ms ?*RT. ?UPS, TraCI: 17ms, vehicles TOT 356 ACT 39 BUF 0)                 \n",
      "Episode:  21\n",
      " Retrying in 1 seconds\n"
     ]
    },
    {
     "name": "stderr",
     "output_type": "stream",
     "text": [
      "Warning: Environment variable SUMO_HOME is not set properly, disabling XML validation. Set 'auto' or 'always' for web lookups.\n"
     ]
    },
    {
     "name": "stdout",
     "output_type": "stream",
     "text": [
      "Step #500.00 (0ms ?*RT. ?UPS, TraCI: 9ms, vehicles TOT 333 ACT 18 BUF 0)                  \n",
      "Episode:  22\n",
      " Retrying in 1 seconds\n"
     ]
    },
    {
     "name": "stderr",
     "output_type": "stream",
     "text": [
      "Warning: Environment variable SUMO_HOME is not set properly, disabling XML validation. Set 'auto' or 'always' for web lookups.\n"
     ]
    },
    {
     "name": "stdout",
     "output_type": "stream",
     "text": [
      "Step #500.00 (0ms ?*RT. ?UPS, TraCI: 10ms, vehicles TOT 347 ACT 21 BUF 0)                 \n",
      "Episode:  23\n",
      " Retrying in 1 seconds\n"
     ]
    },
    {
     "name": "stderr",
     "output_type": "stream",
     "text": [
      "Warning: Environment variable SUMO_HOME is not set properly, disabling XML validation. Set 'auto' or 'always' for web lookups.\n"
     ]
    },
    {
     "name": "stdout",
     "output_type": "stream",
     "text": [
      "Step #500.00 (0ms ?*RT. ?UPS, TraCI: 13ms, vehicles TOT 370 ACT 32 BUF 0)                 \n",
      "Episode:  24\n",
      " Retrying in 1 seconds\n"
     ]
    },
    {
     "name": "stderr",
     "output_type": "stream",
     "text": [
      "Warning: Environment variable SUMO_HOME is not set properly, disabling XML validation. Set 'auto' or 'always' for web lookups.\n"
     ]
    },
    {
     "name": "stdout",
     "output_type": "stream",
     "text": [
      "Step #500.00 (0ms ?*RT. ?UPS, TraCI: 13ms, vehicles TOT 346 ACT 32 BUF 0)                 \n",
      "Episode:  25\n",
      " Retrying in 1 seconds\n"
     ]
    },
    {
     "name": "stderr",
     "output_type": "stream",
     "text": [
      "Warning: Environment variable SUMO_HOME is not set properly, disabling XML validation. Set 'auto' or 'always' for web lookups.\n"
     ]
    },
    {
     "name": "stdout",
     "output_type": "stream",
     "text": [
      "Step #500.00 (0ms ?*RT. ?UPS, TraCI: 15ms, vehicles TOT 346 ACT 34 BUF 0)                 \n",
      "Episode:  26\n",
      " Retrying in 1 seconds\n"
     ]
    },
    {
     "name": "stderr",
     "output_type": "stream",
     "text": [
      "Warning: Environment variable SUMO_HOME is not set properly, disabling XML validation. Set 'auto' or 'always' for web lookups.\n"
     ]
    },
    {
     "name": "stdout",
     "output_type": "stream",
     "text": [
      "Step #500.00 (0ms ?*RT. ?UPS, TraCI: 13ms, vehicles TOT 362 ACT 29 BUF 0)                 \n",
      "Episode:  27\n",
      " Retrying in 1 seconds\n"
     ]
    },
    {
     "name": "stderr",
     "output_type": "stream",
     "text": [
      "Warning: Environment variable SUMO_HOME is not set properly, disabling XML validation. Set 'auto' or 'always' for web lookups.\n"
     ]
    },
    {
     "name": "stdout",
     "output_type": "stream",
     "text": [
      "Step #500.00 (0ms ?*RT. ?UPS, TraCI: 11ms, vehicles TOT 365 ACT 25 BUF 0)                 \n",
      "Episode:  28\n",
      " Retrying in 1 seconds\n"
     ]
    },
    {
     "name": "stderr",
     "output_type": "stream",
     "text": [
      "Warning: Environment variable SUMO_HOME is not set properly, disabling XML validation. Set 'auto' or 'always' for web lookups.\n"
     ]
    },
    {
     "name": "stdout",
     "output_type": "stream",
     "text": [
      "Step #500.00 (0ms ?*RT. ?UPS, TraCI: 14ms, vehicles TOT 320 ACT 33 BUF 0)                 \n",
      "Episode:  29\n",
      " Retrying in 1 seconds\n"
     ]
    },
    {
     "name": "stderr",
     "output_type": "stream",
     "text": [
      "Warning: Environment variable SUMO_HOME is not set properly, disabling XML validation. Set 'auto' or 'always' for web lookups.\n"
     ]
    },
    {
     "name": "stdout",
     "output_type": "stream",
     "text": [
      "Step #500.00 (0ms ?*RT. ?UPS, TraCI: 18ms, vehicles TOT 353 ACT 42 BUF 0)                 \n",
      "Episode:  30\n",
      " Retrying in 1 seconds\n"
     ]
    },
    {
     "name": "stderr",
     "output_type": "stream",
     "text": [
      "Warning: Environment variable SUMO_HOME is not set properly, disabling XML validation. Set 'auto' or 'always' for web lookups.\n"
     ]
    },
    {
     "name": "stdout",
     "output_type": "stream",
     "text": [
      "Step #500.00 (0ms ?*RT. ?UPS, TraCI: 11ms, vehicles TOT 354 ACT 27 BUF 0)                 \n",
      "Episode:  31\n",
      " Retrying in 1 seconds\n"
     ]
    },
    {
     "name": "stderr",
     "output_type": "stream",
     "text": [
      "Warning: Environment variable SUMO_HOME is not set properly, disabling XML validation. Set 'auto' or 'always' for web lookups.\n",
      "Warning: Vehicle 'flow_emergency_ns_1.0' performs emergency braking on lane 'n_t_0' with decel=9.00, wished=4.50, severity=1.00, time=21.00.\n"
     ]
    },
    {
     "name": "stdout",
     "output_type": "stream",
     "text": [
      "Step #500.00 (0ms ?*RT. ?UPS, TraCI: 16ms, vehicles TOT 261 ACT 39 BUF 81)                \n",
      "Episode:  32\n",
      " Retrying in 1 seconds\n"
     ]
    },
    {
     "name": "stderr",
     "output_type": "stream",
     "text": [
      "Warning: Environment variable SUMO_HOME is not set properly, disabling XML validation. Set 'auto' or 'always' for web lookups.\n"
     ]
    },
    {
     "name": "stdout",
     "output_type": "stream",
     "text": [
      "Step #500.00 (0ms ?*RT. ?UPS, TraCI: 18ms, vehicles TOT 263 ACT 45 BUF 81)                \n",
      "Episode:  33\n",
      " Retrying in 1 seconds\n"
     ]
    },
    {
     "name": "stderr",
     "output_type": "stream",
     "text": [
      "Warning: Environment variable SUMO_HOME is not set properly, disabling XML validation. Set 'auto' or 'always' for web lookups.\n"
     ]
    },
    {
     "name": "stdout",
     "output_type": "stream",
     "text": [
      "Step #500.00 (0ms ?*RT. ?UPS, TraCI: 19ms, vehicles TOT 255 ACT 43 BUF 97)                \n",
      "Episode:  34\n",
      " Retrying in 1 seconds\n"
     ]
    },
    {
     "name": "stderr",
     "output_type": "stream",
     "text": [
      "Warning: Environment variable SUMO_HOME is not set properly, disabling XML validation. Set 'auto' or 'always' for web lookups.\n"
     ]
    },
    {
     "name": "stdout",
     "output_type": "stream",
     "text": [
      "Step #500.00 (0ms ?*RT. ?UPS, TraCI: 19ms, vehicles TOT 256 ACT 41 BUF 105)               \n",
      "Episode:  35\n",
      " Retrying in 1 seconds\n"
     ]
    },
    {
     "name": "stderr",
     "output_type": "stream",
     "text": [
      "Warning: Environment variable SUMO_HOME is not set properly, disabling XML validation. Set 'auto' or 'always' for web lookups.\n"
     ]
    },
    {
     "name": "stdout",
     "output_type": "stream",
     "text": [
      "Step #500.00 (0ms ?*RT. ?UPS, TraCI: 19ms, vehicles TOT 256 ACT 42 BUF 122)               \n",
      "Episode:  36\n",
      " Retrying in 1 seconds\n"
     ]
    },
    {
     "name": "stderr",
     "output_type": "stream",
     "text": [
      "Warning: Environment variable SUMO_HOME is not set properly, disabling XML validation. Set 'auto' or 'always' for web lookups.\n"
     ]
    },
    {
     "name": "stdout",
     "output_type": "stream",
     "text": [
      "Step #500.00 (1ms ~= 1000.00*RT, ~44000.00UPS, TraCI: 20ms, vehicles TOT 202 ACT 44 BUF 15\n",
      "Episode:  37\n",
      " Retrying in 1 seconds\n"
     ]
    },
    {
     "name": "stderr",
     "output_type": "stream",
     "text": [
      "Warning: Environment variable SUMO_HOME is not set properly, disabling XML validation. Set 'auto' or 'always' for web lookups.\n"
     ]
    },
    {
     "name": "stdout",
     "output_type": "stream",
     "text": [
      "Step #500.00 (0ms ?*RT. ?UPS, TraCI: 18ms, vehicles TOT 184 ACT 43 BUF 152)               \n",
      "Episode:  38\n",
      " Retrying in 1 seconds\n"
     ]
    },
    {
     "name": "stderr",
     "output_type": "stream",
     "text": [
      "Warning: Environment variable SUMO_HOME is not set properly, disabling XML validation. Set 'auto' or 'always' for web lookups.\n"
     ]
    },
    {
     "name": "stdout",
     "output_type": "stream",
     "text": [
      "Step #500.00 (0ms ?*RT. ?UPS, TraCI: 13ms, vehicles TOT 349 ACT 29 BUF 0)                 \n",
      "Episode:  39\n",
      " Retrying in 1 seconds\n"
     ]
    },
    {
     "name": "stderr",
     "output_type": "stream",
     "text": [
      "Warning: Environment variable SUMO_HOME is not set properly, disabling XML validation. Set 'auto' or 'always' for web lookups.\n"
     ]
    },
    {
     "name": "stdout",
     "output_type": "stream",
     "text": [
      "Step #500.00 (0ms ?*RT. ?UPS, TraCI: 15ms, vehicles TOT 347 ACT 35 BUF 0)                 \n",
      "Episode:  40\n",
      " Retrying in 1 seconds\n"
     ]
    },
    {
     "name": "stderr",
     "output_type": "stream",
     "text": [
      "Warning: Environment variable SUMO_HOME is not set properly, disabling XML validation. Set 'auto' or 'always' for web lookups.\n"
     ]
    },
    {
     "name": "stdout",
     "output_type": "stream",
     "text": [
      "Step #500.00 (0ms ?*RT. ?UPS, TraCI: 19ms, vehicles TOT 372 ACT 44 BUF 0)                 \n",
      "Episode:  41\n",
      " Retrying in 1 seconds\n"
     ]
    },
    {
     "name": "stderr",
     "output_type": "stream",
     "text": [
      "Warning: Environment variable SUMO_HOME is not set properly, disabling XML validation. Set 'auto' or 'always' for web lookups.\n"
     ]
    },
    {
     "name": "stdout",
     "output_type": "stream",
     "text": [
      "Step #500.00 (0ms ?*RT. ?UPS, TraCI: 14ms, vehicles TOT 356 ACT 32 BUF 0)                 \n",
      "Episode:  42\n",
      " Retrying in 1 seconds\n"
     ]
    },
    {
     "name": "stderr",
     "output_type": "stream",
     "text": [
      "Warning: Environment variable SUMO_HOME is not set properly, disabling XML validation. Set 'auto' or 'always' for web lookups.\n",
      "Warning: Vehicle 'flow_we.4' performs emergency braking on lane 'w_t_0' with decel=9.00, wished=4.50, severity=1.00, time=20.00.\n"
     ]
    },
    {
     "name": "stdout",
     "output_type": "stream",
     "text": [
      "Step #500.00 (0ms ?*RT. ?UPS, TraCI: 17ms, vehicles TOT 355 ACT 40 BUF 6)                 \n",
      "Episode:  43\n",
      " Retrying in 1 seconds\n"
     ]
    },
    {
     "name": "stderr",
     "output_type": "stream",
     "text": [
      "Warning: Environment variable SUMO_HOME is not set properly, disabling XML validation. Set 'auto' or 'always' for web lookups.\n"
     ]
    },
    {
     "name": "stdout",
     "output_type": "stream",
     "text": [
      "Step #500.00 (0ms ?*RT. ?UPS, TraCI: 23ms, vehicles TOT 376 ACT 52 BUF 0)                 \n",
      "Episode:  44\n",
      " Retrying in 1 seconds\n"
     ]
    },
    {
     "name": "stderr",
     "output_type": "stream",
     "text": [
      "Warning: Environment variable SUMO_HOME is not set properly, disabling XML validation. Set 'auto' or 'always' for web lookups.\n"
     ]
    },
    {
     "name": "stdout",
     "output_type": "stream",
     "text": [
      "Step #500.00 (0ms ?*RT. ?UPS, TraCI: 8ms, vehicles TOT 332 ACT 19 BUF 0)                  \n",
      "Episode:  45\n",
      " Retrying in 1 seconds\n"
     ]
    },
    {
     "name": "stderr",
     "output_type": "stream",
     "text": [
      "Warning: Environment variable SUMO_HOME is not set properly, disabling XML validation. Set 'auto' or 'always' for web lookups.\n"
     ]
    },
    {
     "name": "stdout",
     "output_type": "stream",
     "text": [
      "Step #500.00 (0ms ?*RT. ?UPS, TraCI: 14ms, vehicles TOT 349 ACT 32 BUF 0)                 \n",
      "Episode:  46\n",
      " Retrying in 1 seconds\n"
     ]
    },
    {
     "name": "stderr",
     "output_type": "stream",
     "text": [
      "Warning: Environment variable SUMO_HOME is not set properly, disabling XML validation. Set 'auto' or 'always' for web lookups.\n"
     ]
    },
    {
     "name": "stdout",
     "output_type": "stream",
     "text": [
      "Step #500.00 (0ms ?*RT. ?UPS, TraCI: 15ms, vehicles TOT 326 ACT 34 BUF 0)                 \n",
      "Episode:  47\n",
      " Retrying in 1 seconds\n"
     ]
    },
    {
     "name": "stderr",
     "output_type": "stream",
     "text": [
      "Warning: Environment variable SUMO_HOME is not set properly, disabling XML validation. Set 'auto' or 'always' for web lookups.\n"
     ]
    },
    {
     "name": "stdout",
     "output_type": "stream",
     "text": [
      "Step #500.00 (0ms ?*RT. ?UPS, TraCI: 10ms, vehicles TOT 360 ACT 26 BUF 0)                 \n",
      "Episode:  48\n",
      " Retrying in 1 seconds\n"
     ]
    },
    {
     "name": "stderr",
     "output_type": "stream",
     "text": [
      "Warning: Environment variable SUMO_HOME is not set properly, disabling XML validation. Set 'auto' or 'always' for web lookups.\n"
     ]
    },
    {
     "name": "stdout",
     "output_type": "stream",
     "text": [
      "Step #500.00 (0ms ?*RT. ?UPS, TraCI: 9ms, vehicles TOT 337 ACT 20 BUF 0)                  \n",
      "Episode:  49\n",
      " Retrying in 1 seconds\n"
     ]
    },
    {
     "name": "stderr",
     "output_type": "stream",
     "text": [
      "Warning: Environment variable SUMO_HOME is not set properly, disabling XML validation. Set 'auto' or 'always' for web lookups.\n"
     ]
    },
    {
     "name": "stdout",
     "output_type": "stream",
     "text": [
      "Step #500.00 (0ms ?*RT. ?UPS, TraCI: 12ms, vehicles TOT 372 ACT 28 BUF 0)                 \n",
      "Episode:  50\n",
      " Retrying in 1 seconds\n"
     ]
    },
    {
     "name": "stderr",
     "output_type": "stream",
     "text": [
      "Warning: Environment variable SUMO_HOME is not set properly, disabling XML validation. Set 'auto' or 'always' for web lookups.\n"
     ]
    },
    {
     "name": "stdout",
     "output_type": "stream",
     "text": [
      "Step #500.00 (0ms ?*RT. ?UPS, TraCI: 21ms, vehicles TOT 372 ACT 48 BUF 17)                \n",
      "Episode:  51\n",
      " Retrying in 1 seconds\n"
     ]
    },
    {
     "name": "stderr",
     "output_type": "stream",
     "text": [
      "Warning: Environment variable SUMO_HOME is not set properly, disabling XML validation. Set 'auto' or 'always' for web lookups.\n"
     ]
    },
    {
     "name": "stdout",
     "output_type": "stream",
     "text": [
      "Step #500.00 (0ms ?*RT. ?UPS, TraCI: 21ms, vehicles TOT 318 ACT 47 BUF 16)                \n",
      "Episode:  52\n",
      " Retrying in 1 seconds\n"
     ]
    },
    {
     "name": "stderr",
     "output_type": "stream",
     "text": [
      "Warning: Environment variable SUMO_HOME is not set properly, disabling XML validation. Set 'auto' or 'always' for web lookups.\n"
     ]
    },
    {
     "name": "stdout",
     "output_type": "stream",
     "text": [
      "Step #500.00 (0ms ?*RT. ?UPS, TraCI: 22ms, vehicles TOT 351 ACT 49 BUF 0)                 \n",
      "Episode:  53\n",
      " Retrying in 1 seconds\n"
     ]
    },
    {
     "name": "stderr",
     "output_type": "stream",
     "text": [
      "Warning: Environment variable SUMO_HOME is not set properly, disabling XML validation. Set 'auto' or 'always' for web lookups.\n"
     ]
    },
    {
     "name": "stdout",
     "output_type": "stream",
     "text": [
      "Step #500.00 (0ms ?*RT. ?UPS, TraCI: 17ms, vehicles TOT 331 ACT 38 BUF 0)                 \n",
      "Episode:  54\n",
      " Retrying in 1 seconds\n"
     ]
    },
    {
     "name": "stderr",
     "output_type": "stream",
     "text": [
      "Warning: Environment variable SUMO_HOME is not set properly, disabling XML validation. Set 'auto' or 'always' for web lookups.\n"
     ]
    },
    {
     "name": "stdout",
     "output_type": "stream",
     "text": [
      "Step #500.00 (0ms ?*RT. ?UPS, TraCI: 17ms, vehicles TOT 355 ACT 38 BUF 0)                 \n",
      "Episode:  55\n",
      " Retrying in 1 seconds\n"
     ]
    },
    {
     "name": "stderr",
     "output_type": "stream",
     "text": [
      "Warning: Environment variable SUMO_HOME is not set properly, disabling XML validation. Set 'auto' or 'always' for web lookups.\n"
     ]
    },
    {
     "name": "stdout",
     "output_type": "stream",
     "text": [
      "Step #500.00 (0ms ?*RT. ?UPS, TraCI: 14ms, vehicles TOT 326 ACT 32 BUF 0)                 \n",
      "Episode:  56\n",
      " Retrying in 1 seconds\n"
     ]
    },
    {
     "name": "stderr",
     "output_type": "stream",
     "text": [
      "Warning: Environment variable SUMO_HOME is not set properly, disabling XML validation. Set 'auto' or 'always' for web lookups.\n"
     ]
    },
    {
     "name": "stdout",
     "output_type": "stream",
     "text": [
      "Step #500.00 (0ms ?*RT. ?UPS, TraCI: 22ms, vehicles TOT 351 ACT 49 BUF 13)                \n",
      "Episode:  57\n",
      " Retrying in 1 seconds\n"
     ]
    },
    {
     "name": "stderr",
     "output_type": "stream",
     "text": [
      "Warning: Environment variable SUMO_HOME is not set properly, disabling XML validation. Set 'auto' or 'always' for web lookups.\n"
     ]
    },
    {
     "name": "stdout",
     "output_type": "stream",
     "text": [
      "Step #500.00 (0ms ?*RT. ?UPS, TraCI: 19ms, vehicles TOT 353 ACT 44 BUF 0)                 \n",
      "Episode:  58\n",
      " Retrying in 1 seconds\n"
     ]
    },
    {
     "name": "stderr",
     "output_type": "stream",
     "text": [
      "Warning: Environment variable SUMO_HOME is not set properly, disabling XML validation. Set 'auto' or 'always' for web lookups.\n"
     ]
    },
    {
     "name": "stdout",
     "output_type": "stream",
     "text": [
      "Step #500.00 (0ms ?*RT. ?UPS, TraCI: 13ms, vehicles TOT 353 ACT 30 BUF 0)                 \n",
      "Episode:  59\n",
      " Retrying in 1 seconds\n"
     ]
    },
    {
     "name": "stderr",
     "output_type": "stream",
     "text": [
      "Warning: Environment variable SUMO_HOME is not set properly, disabling XML validation. Set 'auto' or 'always' for web lookups.\n"
     ]
    },
    {
     "name": "stdout",
     "output_type": "stream",
     "text": [
      "Step #500.00 (0ms ?*RT. ?UPS, TraCI: 18ms, vehicles TOT 288 ACT 41 BUF 57)                \n",
      "Episode:  60\n",
      " Retrying in 1 seconds\n"
     ]
    },
    {
     "name": "stderr",
     "output_type": "stream",
     "text": [
      "Warning: Environment variable SUMO_HOME is not set properly, disabling XML validation. Set 'auto' or 'always' for web lookups.\n"
     ]
    },
    {
     "name": "stdout",
     "output_type": "stream",
     "text": [
      "Step #500.00 (0ms ?*RT. ?UPS, TraCI: 17ms, vehicles TOT 281 ACT 36 BUF 52)                \n",
      "Episode:  61\n",
      " Retrying in 1 seconds\n"
     ]
    },
    {
     "name": "stderr",
     "output_type": "stream",
     "text": [
      "Warning: Environment variable SUMO_HOME is not set properly, disabling XML validation. Set 'auto' or 'always' for web lookups.\n"
     ]
    },
    {
     "name": "stdout",
     "output_type": "stream",
     "text": [
      "Step #500.00 (0ms ?*RT. ?UPS, TraCI: 18ms, vehicles TOT 200 ACT 39 BUF 125)               \n",
      "Episode:  62\n",
      " Retrying in 1 seconds\n"
     ]
    },
    {
     "name": "stderr",
     "output_type": "stream",
     "text": [
      "Warning: Environment variable SUMO_HOME is not set properly, disabling XML validation. Set 'auto' or 'always' for web lookups.\n"
     ]
    },
    {
     "name": "stdout",
     "output_type": "stream",
     "text": [
      "Step #500.00 (0ms ?*RT. ?UPS, TraCI: 19ms, vehicles TOT 206 ACT 41 BUF 143)               \n",
      "Episode:  63\n",
      " Retrying in 1 seconds\n"
     ]
    },
    {
     "name": "stderr",
     "output_type": "stream",
     "text": [
      "Warning: Environment variable SUMO_HOME is not set properly, disabling XML validation. Set 'auto' or 'always' for web lookups.\n"
     ]
    },
    {
     "name": "stdout",
     "output_type": "stream",
     "text": [
      "Step #500.00 (0ms ?*RT. ?UPS, TraCI: 20ms, vehicles TOT 193 ACT 43 BUF 208)               \n",
      "Episode:  64\n",
      " Retrying in 1 seconds\n"
     ]
    },
    {
     "name": "stderr",
     "output_type": "stream",
     "text": [
      "Warning: Environment variable SUMO_HOME is not set properly, disabling XML validation. Set 'auto' or 'always' for web lookups.\n"
     ]
    },
    {
     "name": "stdout",
     "output_type": "stream",
     "text": [
      "Step #500.00 (0ms ?*RT. ?UPS, TraCI: 16ms, vehicles TOT 183 ACT 34 BUF 173)               \n",
      "Episode:  65\n",
      " Retrying in 1 seconds\n"
     ]
    },
    {
     "name": "stderr",
     "output_type": "stream",
     "text": [
      "Warning: Environment variable SUMO_HOME is not set properly, disabling XML validation. Set 'auto' or 'always' for web lookups.\n"
     ]
    },
    {
     "name": "stdout",
     "output_type": "stream",
     "text": [
      "Step #500.00 (0ms ?*RT. ?UPS, TraCI: 15ms, vehicles TOT 333 ACT 34 BUF 18)                \n",
      "Episode:  66\n",
      " Retrying in 1 seconds\n"
     ]
    },
    {
     "name": "stderr",
     "output_type": "stream",
     "text": [
      "Warning: Environment variable SUMO_HOME is not set properly, disabling XML validation. Set 'auto' or 'always' for web lookups.\n"
     ]
    },
    {
     "name": "stdout",
     "output_type": "stream",
     "text": [
      "Step #500.00 (1ms ~= 1000.00*RT, ~21000.00UPS, TraCI: 9ms, vehicles TOT 364 ACT 21 BUF 0) \n",
      "Episode:  67\n",
      " Retrying in 1 seconds\n"
     ]
    },
    {
     "name": "stderr",
     "output_type": "stream",
     "text": [
      "Warning: Environment variable SUMO_HOME is not set properly, disabling XML validation. Set 'auto' or 'always' for web lookups.\n"
     ]
    },
    {
     "name": "stdout",
     "output_type": "stream",
     "text": [
      "Step #500.00 (0ms ?*RT. ?UPS, TraCI: 22ms, vehicles TOT 341 ACT 51 BUF 46)                \n",
      "Episode:  68\n",
      " Retrying in 1 seconds\n"
     ]
    },
    {
     "name": "stderr",
     "output_type": "stream",
     "text": [
      "Warning: Environment variable SUMO_HOME is not set properly, disabling XML validation. Set 'auto' or 'always' for web lookups.\n"
     ]
    },
    {
     "name": "stdout",
     "output_type": "stream",
     "text": [
      "Step #500.00 (0ms ?*RT. ?UPS, TraCI: 22ms, vehicles TOT 353 ACT 50 BUF 25)                \n",
      "Episode:  69\n",
      " Retrying in 1 seconds\n"
     ]
    },
    {
     "name": "stderr",
     "output_type": "stream",
     "text": [
      "Warning: Environment variable SUMO_HOME is not set properly, disabling XML validation. Set 'auto' or 'always' for web lookups.\n"
     ]
    },
    {
     "name": "stdout",
     "output_type": "stream",
     "text": [
      "Step #500.00 (0ms ?*RT. ?UPS, TraCI: 22ms, vehicles TOT 352 ACT 48 BUF 20)                \n",
      "Episode:  70\n",
      " Retrying in 1 seconds\n"
     ]
    },
    {
     "name": "stderr",
     "output_type": "stream",
     "text": [
      "Warning: Environment variable SUMO_HOME is not set properly, disabling XML validation. Set 'auto' or 'always' for web lookups.\n"
     ]
    },
    {
     "name": "stdout",
     "output_type": "stream",
     "text": [
      "Step #500.00 (1ms ~= 1000.00*RT, ~52000.00UPS, TraCI: 22ms, vehicles TOT 344 ACT 52 BUF 21\n",
      "Episode:  71\n",
      " Retrying in 1 seconds\n"
     ]
    },
    {
     "name": "stderr",
     "output_type": "stream",
     "text": [
      "Warning: Environment variable SUMO_HOME is not set properly, disabling XML validation. Set 'auto' or 'always' for web lookups.\n"
     ]
    },
    {
     "name": "stdout",
     "output_type": "stream",
     "text": [
      "Step #500.00 (0ms ?*RT. ?UPS, TraCI: 25ms, vehicles TOT 360 ACT 60 BUF 0)                 \n",
      "Episode:  72\n",
      " Retrying in 1 seconds\n"
     ]
    },
    {
     "name": "stderr",
     "output_type": "stream",
     "text": [
      "Warning: Environment variable SUMO_HOME is not set properly, disabling XML validation. Set 'auto' or 'always' for web lookups.\n"
     ]
    },
    {
     "name": "stdout",
     "output_type": "stream",
     "text": [
      "Step #500.00 (0ms ?*RT. ?UPS, TraCI: 22ms, vehicles TOT 357 ACT 50 BUF 0)                 \n",
      "Episode:  73\n",
      " Retrying in 1 seconds\n"
     ]
    },
    {
     "name": "stderr",
     "output_type": "stream",
     "text": [
      "Warning: Environment variable SUMO_HOME is not set properly, disabling XML validation. Set 'auto' or 'always' for web lookups.\n"
     ]
    },
    {
     "name": "stdout",
     "output_type": "stream",
     "text": [
      "Step #500.00 (0ms ?*RT. ?UPS, TraCI: 22ms, vehicles TOT 338 ACT 50 BUF 31)                \n",
      "Episode:  74\n",
      " Retrying in 1 seconds\n"
     ]
    },
    {
     "name": "stderr",
     "output_type": "stream",
     "text": [
      "Warning: Environment variable SUMO_HOME is not set properly, disabling XML validation. Set 'auto' or 'always' for web lookups.\n"
     ]
    },
    {
     "name": "stdout",
     "output_type": "stream",
     "text": [
      "Step #500.00 (0ms ?*RT. ?UPS, TraCI: 21ms, vehicles TOT 356 ACT 50 BUF 0)                 \n",
      "Episode:  75\n",
      " Retrying in 1 seconds\n"
     ]
    },
    {
     "name": "stderr",
     "output_type": "stream",
     "text": [
      "Warning: Environment variable SUMO_HOME is not set properly, disabling XML validation. Set 'auto' or 'always' for web lookups.\n"
     ]
    },
    {
     "name": "stdout",
     "output_type": "stream",
     "text": [
      "Step #500.00 (0ms ?*RT. ?UPS, TraCI: 19ms, vehicles TOT 337 ACT 45 BUF 11)                \n",
      "Episode:  76\n",
      " Retrying in 1 seconds\n"
     ]
    },
    {
     "name": "stderr",
     "output_type": "stream",
     "text": [
      "Warning: Environment variable SUMO_HOME is not set properly, disabling XML validation. Set 'auto' or 'always' for web lookups.\n"
     ]
    },
    {
     "name": "stdout",
     "output_type": "stream",
     "text": [
      "Step #500.00 (0ms ?*RT. ?UPS, TraCI: 15ms, vehicles TOT 336 ACT 39 BUF 0)                 \n",
      "Episode:  77\n",
      " Retrying in 1 seconds\n"
     ]
    },
    {
     "name": "stderr",
     "output_type": "stream",
     "text": [
      "Warning: Environment variable SUMO_HOME is not set properly, disabling XML validation. Set 'auto' or 'always' for web lookups.\n"
     ]
    },
    {
     "name": "stdout",
     "output_type": "stream",
     "text": [
      "Step #500.00 (0ms ?*RT. ?UPS, TraCI: 21ms, vehicles TOT 324 ACT 45 BUF 22)                \n",
      "Episode:  78\n",
      " Retrying in 1 seconds\n"
     ]
    },
    {
     "name": "stderr",
     "output_type": "stream",
     "text": [
      "Warning: Environment variable SUMO_HOME is not set properly, disabling XML validation. Set 'auto' or 'always' for web lookups.\n"
     ]
    },
    {
     "name": "stdout",
     "output_type": "stream",
     "text": [
      "Step #500.00 (0ms ?*RT. ?UPS, TraCI: 21ms, vehicles TOT 376 ACT 47 BUF 0)                 \n",
      "Episode:  79\n",
      " Retrying in 1 seconds\n"
     ]
    },
    {
     "name": "stderr",
     "output_type": "stream",
     "text": [
      "Warning: Environment variable SUMO_HOME is not set properly, disabling XML validation. Set 'auto' or 'always' for web lookups.\n"
     ]
    },
    {
     "name": "stdout",
     "output_type": "stream",
     "text": [
      "Step #500.00 (0ms ?*RT. ?UPS, TraCI: 16ms, vehicles TOT 361 ACT 37 BUF 0)                 \n",
      "Episode:  80\n",
      " Retrying in 1 seconds\n"
     ]
    },
    {
     "name": "stderr",
     "output_type": "stream",
     "text": [
      "Warning: Environment variable SUMO_HOME is not set properly, disabling XML validation. Set 'auto' or 'always' for web lookups.\n",
      "Warning: Vehicle 'flow_emergency_ns_2.0' performs emergency braking on lane 'w_t_1' with decel=9.00, wished=4.50, severity=1.00, time=136.00.\n"
     ]
    },
    {
     "name": "stdout",
     "output_type": "stream",
     "text": [
      "Step #500.00 (0ms ?*RT. ?UPS, TraCI: 14ms, vehicles TOT 348 ACT 30 BUF 0)                 \n",
      "Episode:  81\n",
      " Retrying in 1 seconds\n"
     ]
    },
    {
     "name": "stderr",
     "output_type": "stream",
     "text": [
      "Warning: Environment variable SUMO_HOME is not set properly, disabling XML validation. Set 'auto' or 'always' for web lookups.\n"
     ]
    },
    {
     "name": "stdout",
     "output_type": "stream",
     "text": [
      "Step #500.00 (0ms ?*RT. ?UPS, TraCI: 17ms, vehicles TOT 370 ACT 39 BUF 6)                 \n",
      "Episode:  82\n",
      " Retrying in 1 seconds\n"
     ]
    },
    {
     "name": "stderr",
     "output_type": "stream",
     "text": [
      "Warning: Environment variable SUMO_HOME is not set properly, disabling XML validation. Set 'auto' or 'always' for web lookups.\n"
     ]
    },
    {
     "name": "stdout",
     "output_type": "stream",
     "text": [
      "Step #500.00 (0ms ?*RT. ?UPS, TraCI: 14ms, vehicles TOT 358 ACT 29 BUF 0)                 \n",
      "Episode:  83\n",
      " Retrying in 1 seconds\n"
     ]
    },
    {
     "name": "stderr",
     "output_type": "stream",
     "text": [
      "Warning: Environment variable SUMO_HOME is not set properly, disabling XML validation. Set 'auto' or 'always' for web lookups.\n"
     ]
    },
    {
     "name": "stdout",
     "output_type": "stream",
     "text": [
      "Step #500.00 (0ms ?*RT. ?UPS, TraCI: 17ms, vehicles TOT 333 ACT 39 BUF 37)                \n",
      "Episode:  84\n",
      " Retrying in 1 seconds\n"
     ]
    },
    {
     "name": "stderr",
     "output_type": "stream",
     "text": [
      "Warning: Environment variable SUMO_HOME is not set properly, disabling XML validation. Set 'auto' or 'always' for web lookups.\n"
     ]
    },
    {
     "name": "stdout",
     "output_type": "stream",
     "text": [
      "Step #500.00 (0ms ?*RT. ?UPS, TraCI: 18ms, vehicles TOT 329 ACT 39 BUF 36)                \n",
      "Episode:  85\n",
      " Retrying in 1 seconds\n"
     ]
    },
    {
     "name": "stderr",
     "output_type": "stream",
     "text": [
      "Warning: Environment variable SUMO_HOME is not set properly, disabling XML validation. Set 'auto' or 'always' for web lookups.\n"
     ]
    },
    {
     "name": "stdout",
     "output_type": "stream",
     "text": [
      "Step #500.00 (0ms ?*RT. ?UPS, TraCI: 16ms, vehicles TOT 320 ACT 42 BUF 39)                \n",
      "Episode:  86\n",
      " Retrying in 1 seconds\n"
     ]
    },
    {
     "name": "stderr",
     "output_type": "stream",
     "text": [
      "Warning: Environment variable SUMO_HOME is not set properly, disabling XML validation. Set 'auto' or 'always' for web lookups.\n"
     ]
    },
    {
     "name": "stdout",
     "output_type": "stream",
     "text": [
      "Step #500.00 (0ms ?*RT. ?UPS, TraCI: 19ms, vehicles TOT 262 ACT 40 BUF 81)                \n",
      "Episode:  87\n",
      " Retrying in 1 seconds\n"
     ]
    },
    {
     "name": "stderr",
     "output_type": "stream",
     "text": [
      "Warning: Environment variable SUMO_HOME is not set properly, disabling XML validation. Set 'auto' or 'always' for web lookups.\n"
     ]
    },
    {
     "name": "stdout",
     "output_type": "stream",
     "text": [
      "Step #500.00 (0ms ?*RT. ?UPS, TraCI: 21ms, vehicles TOT 201 ACT 40 BUF 160)               \n",
      "Episode:  88\n",
      " Retrying in 1 seconds\n"
     ]
    },
    {
     "name": "stderr",
     "output_type": "stream",
     "text": [
      "Warning: Environment variable SUMO_HOME is not set properly, disabling XML validation. Set 'auto' or 'always' for web lookups.\n"
     ]
    },
    {
     "name": "stdout",
     "output_type": "stream",
     "text": [
      "Step #500.00 (1ms ~= 1000.00*RT, ~39000.00UPS, TraCI: 37ms, vehicles TOT 219 ACT 39 BUF 12\n",
      "Episode:  89\n",
      " Retrying in 1 seconds\n"
     ]
    },
    {
     "name": "stderr",
     "output_type": "stream",
     "text": [
      "Warning: Environment variable SUMO_HOME is not set properly, disabling XML validation. Set 'auto' or 'always' for web lookups.\n"
     ]
    },
    {
     "name": "stdout",
     "output_type": "stream",
     "text": [
      "Step #500.00 (0ms ?*RT. ?UPS, TraCI: 17ms, vehicles TOT 333 ACT 37 BUF 46)                \n",
      "Episode:  90\n",
      " Retrying in 1 seconds\n"
     ]
    },
    {
     "name": "stderr",
     "output_type": "stream",
     "text": [
      "Warning: Environment variable SUMO_HOME is not set properly, disabling XML validation. Set 'auto' or 'always' for web lookups.\n"
     ]
    },
    {
     "name": "stdout",
     "output_type": "stream",
     "text": [
      "Step #500.00 (0ms ?*RT. ?UPS, TraCI: 18ms, vehicles TOT 343 ACT 40 BUF 4)                 \n",
      "Episode:  91\n",
      " Retrying in 1 seconds\n"
     ]
    },
    {
     "name": "stderr",
     "output_type": "stream",
     "text": [
      "Warning: Environment variable SUMO_HOME is not set properly, disabling XML validation. Set 'auto' or 'always' for web lookups.\n"
     ]
    },
    {
     "name": "stdout",
     "output_type": "stream",
     "text": [
      "Step #500.00 (0ms ?*RT. ?UPS, TraCI: 17ms, vehicles TOT 359 ACT 39 BUF 0)                 \n",
      "Episode:  92\n",
      " Retrying in 1 seconds\n"
     ]
    },
    {
     "name": "stderr",
     "output_type": "stream",
     "text": [
      "Warning: Environment variable SUMO_HOME is not set properly, disabling XML validation. Set 'auto' or 'always' for web lookups.\n"
     ]
    },
    {
     "name": "stdout",
     "output_type": "stream",
     "text": [
      "Step #500.00 (0ms ?*RT. ?UPS, TraCI: 10ms, vehicles TOT 327 ACT 23 BUF 0)                 \n",
      "Episode:  93\n",
      " Retrying in 1 seconds\n"
     ]
    },
    {
     "name": "stderr",
     "output_type": "stream",
     "text": [
      "Warning: Environment variable SUMO_HOME is not set properly, disabling XML validation. Set 'auto' or 'always' for web lookups.\n"
     ]
    },
    {
     "name": "stdout",
     "output_type": "stream",
     "text": [
      "Step #500.00 (0ms ?*RT. ?UPS, TraCI: 13ms, vehicles TOT 351 ACT 29 BUF 0)                 \n",
      "Episode:  94\n",
      " Retrying in 1 seconds\n"
     ]
    },
    {
     "name": "stderr",
     "output_type": "stream",
     "text": [
      "Warning: Environment variable SUMO_HOME is not set properly, disabling XML validation. Set 'auto' or 'always' for web lookups.\n"
     ]
    },
    {
     "name": "stdout",
     "output_type": "stream",
     "text": [
      "Step #500.00 (0ms ?*RT. ?UPS, TraCI: 18ms, vehicles TOT 359 ACT 45 BUF 0)                 \n",
      "Episode:  95\n",
      " Retrying in 1 seconds\n"
     ]
    },
    {
     "name": "stderr",
     "output_type": "stream",
     "text": [
      "Warning: Environment variable SUMO_HOME is not set properly, disabling XML validation. Set 'auto' or 'always' for web lookups.\n"
     ]
    },
    {
     "name": "stdout",
     "output_type": "stream",
     "text": [
      "Step #500.00 (0ms ?*RT. ?UPS, TraCI: 24ms, vehicles TOT 354 ACT 56 BUF 0)                 \n",
      "Episode:  96\n",
      " Retrying in 1 seconds\n"
     ]
    },
    {
     "name": "stderr",
     "output_type": "stream",
     "text": [
      "Warning: Environment variable SUMO_HOME is not set properly, disabling XML validation. Set 'auto' or 'always' for web lookups.\n"
     ]
    },
    {
     "name": "stdout",
     "output_type": "stream",
     "text": [
      "Step #500.00 (0ms ?*RT. ?UPS, TraCI: 21ms, vehicles TOT 366 ACT 48 BUF 0)                 \n",
      "Episode:  97\n",
      " Retrying in 1 seconds\n"
     ]
    },
    {
     "name": "stderr",
     "output_type": "stream",
     "text": [
      "Warning: Environment variable SUMO_HOME is not set properly, disabling XML validation. Set 'auto' or 'always' for web lookups.\n"
     ]
    },
    {
     "name": "stdout",
     "output_type": "stream",
     "text": [
      "Step #500.00 (0ms ?*RT. ?UPS, TraCI: 34ms, vehicles TOT 371 ACT 50 BUF 1)                 \n",
      "Episode:  98\n",
      " Retrying in 1 seconds\n"
     ]
    },
    {
     "name": "stderr",
     "output_type": "stream",
     "text": [
      "Warning: Environment variable SUMO_HOME is not set properly, disabling XML validation. Set 'auto' or 'always' for web lookups.\n"
     ]
    },
    {
     "name": "stdout",
     "output_type": "stream",
     "text": [
      "Step #500.00 (0ms ?*RT. ?UPS, TraCI: 20ms, vehicles TOT 345 ACT 48 BUF 0)                 \n",
      "Episode:  99\n",
      " Retrying in 1 seconds\n"
     ]
    },
    {
     "name": "stderr",
     "output_type": "stream",
     "text": [
      "Warning: Environment variable SUMO_HOME is not set properly, disabling XML validation. Set 'auto' or 'always' for web lookups.\n"
     ]
    },
    {
     "name": "stdout",
     "output_type": "stream",
     "text": [
      "Step #500.00 (0ms ?*RT. ?UPS, TraCI: 22ms, vehicles TOT 325 ACT 52 BUF 31)                \n",
      "Episode:  100\n",
      " Retrying in 1 seconds\n"
     ]
    },
    {
     "name": "stderr",
     "output_type": "stream",
     "text": [
      "Warning: Environment variable SUMO_HOME is not set properly, disabling XML validation. Set 'auto' or 'always' for web lookups.\n"
     ]
    },
    {
     "name": "stdout",
     "output_type": "stream",
     "text": [
      "Step #500.00 (0ms ?*RT. ?UPS, TraCI: 23ms, vehicles TOT 357 ACT 53 BUF 20)                \n",
      "Episode:  101\n",
      " Retrying in 1 seconds\n"
     ]
    },
    {
     "name": "stderr",
     "output_type": "stream",
     "text": [
      "Warning: Environment variable SUMO_HOME is not set properly, disabling XML validation. Set 'auto' or 'always' for web lookups.\n"
     ]
    },
    {
     "name": "stdout",
     "output_type": "stream",
     "text": [
      "Step #500.00 (0ms ?*RT. ?UPS, TraCI: 21ms, vehicles TOT 319 ACT 47 BUF 27)                \n",
      "Episode:  102\n",
      " Retrying in 1 seconds\n"
     ]
    },
    {
     "name": "stderr",
     "output_type": "stream",
     "text": [
      "Warning: Environment variable SUMO_HOME is not set properly, disabling XML validation. Set 'auto' or 'always' for web lookups.\n"
     ]
    },
    {
     "name": "stdout",
     "output_type": "stream",
     "text": [
      "Step #500.00 (0ms ?*RT. ?UPS, TraCI: 11ms, vehicles TOT 341 ACT 24 BUF 0)                 \n",
      "Episode:  103\n",
      " Retrying in 1 seconds\n"
     ]
    },
    {
     "name": "stderr",
     "output_type": "stream",
     "text": [
      "Warning: Environment variable SUMO_HOME is not set properly, disabling XML validation. Set 'auto' or 'always' for web lookups.\n"
     ]
    },
    {
     "name": "stdout",
     "output_type": "stream",
     "text": [
      "Step #500.00 (0ms ?*RT. ?UPS, TraCI: 13ms, vehicles TOT 378 ACT 29 BUF 0)                 \n",
      "Episode:  104\n",
      " Retrying in 1 seconds\n"
     ]
    },
    {
     "name": "stderr",
     "output_type": "stream",
     "text": [
      "Warning: Environment variable SUMO_HOME is not set properly, disabling XML validation. Set 'auto' or 'always' for web lookups.\n"
     ]
    },
    {
     "name": "stdout",
     "output_type": "stream",
     "text": [
      "Step #500.00 (0ms ?*RT. ?UPS, TraCI: 11ms, vehicles TOT 353 ACT 24 BUF 0)                 \n",
      "Episode:  105\n",
      " Retrying in 1 seconds\n"
     ]
    },
    {
     "name": "stderr",
     "output_type": "stream",
     "text": [
      "Warning: Environment variable SUMO_HOME is not set properly, disabling XML validation. Set 'auto' or 'always' for web lookups.\n"
     ]
    },
    {
     "name": "stdout",
     "output_type": "stream",
     "text": [
      "Step #500.00 (0ms ?*RT. ?UPS, TraCI: 12ms, vehicles TOT 348 ACT 27 BUF 0)                 \n",
      "Episode:  106\n",
      " Retrying in 1 seconds\n"
     ]
    },
    {
     "name": "stderr",
     "output_type": "stream",
     "text": [
      "Warning: Environment variable SUMO_HOME is not set properly, disabling XML validation. Set 'auto' or 'always' for web lookups.\n"
     ]
    },
    {
     "name": "stdout",
     "output_type": "stream",
     "text": [
      "Step #500.00 (0ms ?*RT. ?UPS, TraCI: 14ms, vehicles TOT 381 ACT 33 BUF 0)                 \n",
      "Episode:  107\n",
      " Retrying in 1 seconds\n"
     ]
    },
    {
     "name": "stderr",
     "output_type": "stream",
     "text": [
      "Warning: Environment variable SUMO_HOME is not set properly, disabling XML validation. Set 'auto' or 'always' for web lookups.\n"
     ]
    },
    {
     "name": "stdout",
     "output_type": "stream",
     "text": [
      "Step #500.00 (0ms ?*RT. ?UPS, TraCI: 14ms, vehicles TOT 356 ACT 32 BUF 0)                 \n",
      "Episode:  108\n",
      " Retrying in 1 seconds\n"
     ]
    },
    {
     "name": "stderr",
     "output_type": "stream",
     "text": [
      "Warning: Environment variable SUMO_HOME is not set properly, disabling XML validation. Set 'auto' or 'always' for web lookups.\n"
     ]
    },
    {
     "name": "stdout",
     "output_type": "stream",
     "text": [
      "Step #500.00 (0ms ?*RT. ?UPS, TraCI: 13ms, vehicles TOT 354 ACT 30 BUF 0)                 \n",
      "Episode:  109\n",
      " Retrying in 1 seconds\n"
     ]
    },
    {
     "name": "stderr",
     "output_type": "stream",
     "text": [
      "Warning: Environment variable SUMO_HOME is not set properly, disabling XML validation. Set 'auto' or 'always' for web lookups.\n"
     ]
    },
    {
     "name": "stdout",
     "output_type": "stream",
     "text": [
      "Step #500.00 (0ms ?*RT. ?UPS, TraCI: 18ms, vehicles TOT 371 ACT 40 BUF 0)                 \n",
      "Episode:  110\n",
      " Retrying in 1 seconds\n"
     ]
    },
    {
     "name": "stderr",
     "output_type": "stream",
     "text": [
      "Warning: Environment variable SUMO_HOME is not set properly, disabling XML validation. Set 'auto' or 'always' for web lookups.\n"
     ]
    },
    {
     "name": "stdout",
     "output_type": "stream",
     "text": [
      "Step #500.00 (0ms ?*RT. ?UPS, TraCI: 16ms, vehicles TOT 361 ACT 38 BUF 0)                 \n",
      "Episode:  111\n",
      " Retrying in 1 seconds\n"
     ]
    },
    {
     "name": "stderr",
     "output_type": "stream",
     "text": [
      "Warning: Environment variable SUMO_HOME is not set properly, disabling XML validation. Set 'auto' or 'always' for web lookups.\n"
     ]
    },
    {
     "name": "stdout",
     "output_type": "stream",
     "text": [
      "Step #500.00 (0ms ?*RT. ?UPS, TraCI: 15ms, vehicles TOT 354 ACT 34 BUF 0)                 \n",
      "Episode:  112\n",
      " Retrying in 1 seconds\n"
     ]
    },
    {
     "name": "stderr",
     "output_type": "stream",
     "text": [
      "Warning: Environment variable SUMO_HOME is not set properly, disabling XML validation. Set 'auto' or 'always' for web lookups.\n",
      "Warning: Vehicle 'flow_emergency_ns_1.4' performs emergency braking on lane 'n_t_1' with decel=9.00, wished=4.50, severity=1.00, time=51.00.\n"
     ]
    },
    {
     "name": "stdout",
     "output_type": "stream",
     "text": [
      "Step #500.00 (0ms ?*RT. ?UPS, TraCI: 11ms, vehicles TOT 361 ACT 24 BUF 0)                 \n",
      "Episode:  113\n",
      " Retrying in 1 seconds\n"
     ]
    },
    {
     "name": "stderr",
     "output_type": "stream",
     "text": [
      "Warning: Environment variable SUMO_HOME is not set properly, disabling XML validation. Set 'auto' or 'always' for web lookups.\n"
     ]
    },
    {
     "name": "stdout",
     "output_type": "stream",
     "text": [
      "Step #500.00 (1ms ~= 1000.00*RT, ~42000.00UPS, TraCI: 18ms, vehicles TOT 366 ACT 42 BUF 3)\n",
      "Episode:  114\n",
      " Retrying in 1 seconds\n"
     ]
    },
    {
     "name": "stderr",
     "output_type": "stream",
     "text": [
      "Warning: Environment variable SUMO_HOME is not set properly, disabling XML validation. Set 'auto' or 'always' for web lookups.\n"
     ]
    },
    {
     "name": "stdout",
     "output_type": "stream",
     "text": [
      "Step #500.00 (0ms ?*RT. ?UPS, TraCI: 18ms, vehicles TOT 352 ACT 41 BUF 2)                 \n",
      "Episode:  115\n",
      " Retrying in 1 seconds\n"
     ]
    },
    {
     "name": "stderr",
     "output_type": "stream",
     "text": [
      "Warning: Environment variable SUMO_HOME is not set properly, disabling XML validation. Set 'auto' or 'always' for web lookups.\n"
     ]
    },
    {
     "name": "stdout",
     "output_type": "stream",
     "text": [
      "Step #500.00 (0ms ?*RT. ?UPS, TraCI: 21ms, vehicles TOT 366 ACT 48 BUF 19)                \n",
      "Episode:  116\n",
      " Retrying in 1 seconds\n"
     ]
    },
    {
     "name": "stderr",
     "output_type": "stream",
     "text": [
      "Warning: Environment variable SUMO_HOME is not set properly, disabling XML validation. Set 'auto' or 'always' for web lookups.\n"
     ]
    },
    {
     "name": "stdout",
     "output_type": "stream",
     "text": [
      "Step #500.00 (0ms ?*RT. ?UPS, TraCI: 12ms, vehicles TOT 347 ACT 23 BUF 0)                 \n",
      "Episode:  117\n",
      " Retrying in 1 seconds\n"
     ]
    },
    {
     "name": "stderr",
     "output_type": "stream",
     "text": [
      "Warning: Environment variable SUMO_HOME is not set properly, disabling XML validation. Set 'auto' or 'always' for web lookups.\n"
     ]
    },
    {
     "name": "stdout",
     "output_type": "stream",
     "text": [
      "Step #500.00 (0ms ?*RT. ?UPS, TraCI: 19ms, vehicles TOT 372 ACT 43 BUF 9)                 \n",
      "Episode:  118\n",
      " Retrying in 1 seconds\n"
     ]
    },
    {
     "name": "stderr",
     "output_type": "stream",
     "text": [
      "Warning: Environment variable SUMO_HOME is not set properly, disabling XML validation. Set 'auto' or 'always' for web lookups.\n"
     ]
    },
    {
     "name": "stdout",
     "output_type": "stream",
     "text": [
      "Step #500.00 (0ms ?*RT. ?UPS, TraCI: 13ms, vehicles TOT 348 ACT 28 BUF 0)                 \n",
      "Episode:  119\n",
      " Retrying in 1 seconds\n"
     ]
    },
    {
     "name": "stderr",
     "output_type": "stream",
     "text": [
      "Warning: Environment variable SUMO_HOME is not set properly, disabling XML validation. Set 'auto' or 'always' for web lookups.\n"
     ]
    },
    {
     "name": "stdout",
     "output_type": "stream",
     "text": [
      "Step #500.00 (0ms ?*RT. ?UPS, TraCI: 12ms, vehicles TOT 350 ACT 24 BUF 0)                 \n",
      "Episode:  120\n",
      " Retrying in 1 seconds\n"
     ]
    },
    {
     "name": "stderr",
     "output_type": "stream",
     "text": [
      "Warning: Environment variable SUMO_HOME is not set properly, disabling XML validation. Set 'auto' or 'always' for web lookups.\n"
     ]
    },
    {
     "name": "stdout",
     "output_type": "stream",
     "text": [
      "Step #500.00 (0ms ?*RT. ?UPS, TraCI: 15ms, vehicles TOT 364 ACT 37 BUF 7)                 \n",
      "Episode:  121\n",
      " Retrying in 1 seconds\n"
     ]
    },
    {
     "name": "stderr",
     "output_type": "stream",
     "text": [
      "Warning: Environment variable SUMO_HOME is not set properly, disabling XML validation. Set 'auto' or 'always' for web lookups.\n"
     ]
    },
    {
     "name": "stdout",
     "output_type": "stream",
     "text": [
      "Step #500.00 (0ms ?*RT. ?UPS, TraCI: 15ms, vehicles TOT 351 ACT 34 BUF 0)                 \n",
      "Episode:  122\n",
      " Retrying in 1 seconds\n"
     ]
    },
    {
     "name": "stderr",
     "output_type": "stream",
     "text": [
      "Warning: Environment variable SUMO_HOME is not set properly, disabling XML validation. Set 'auto' or 'always' for web lookups.\n"
     ]
    },
    {
     "name": "stdout",
     "output_type": "stream",
     "text": [
      "Step #500.00 (0ms ?*RT. ?UPS, TraCI: 13ms, vehicles TOT 362 ACT 30 BUF 0)                 \n",
      "Episode:  123\n",
      " Retrying in 1 seconds\n"
     ]
    },
    {
     "name": "stderr",
     "output_type": "stream",
     "text": [
      "Warning: Environment variable SUMO_HOME is not set properly, disabling XML validation. Set 'auto' or 'always' for web lookups.\n"
     ]
    },
    {
     "name": "stdout",
     "output_type": "stream",
     "text": [
      "Step #500.00 (0ms ?*RT. ?UPS, TraCI: 14ms, vehicles TOT 369 ACT 32 BUF 0)                 \n",
      "Episode:  124\n",
      " Retrying in 1 seconds\n"
     ]
    },
    {
     "name": "stderr",
     "output_type": "stream",
     "text": [
      "Warning: Environment variable SUMO_HOME is not set properly, disabling XML validation. Set 'auto' or 'always' for web lookups.\n"
     ]
    },
    {
     "name": "stdout",
     "output_type": "stream",
     "text": [
      "Step #500.00 (0ms ?*RT. ?UPS, TraCI: 13ms, vehicles TOT 350 ACT 27 BUF 0)                 \n",
      "Episode:  125\n",
      " Retrying in 1 seconds\n"
     ]
    },
    {
     "name": "stderr",
     "output_type": "stream",
     "text": [
      "Warning: Environment variable SUMO_HOME is not set properly, disabling XML validation. Set 'auto' or 'always' for web lookups.\n"
     ]
    },
    {
     "name": "stdout",
     "output_type": "stream",
     "text": [
      "Step #500.00 (0ms ?*RT. ?UPS, TraCI: 11ms, vehicles TOT 363 ACT 24 BUF 0)                 \n",
      "Episode:  126\n",
      " Retrying in 1 seconds\n"
     ]
    },
    {
     "name": "stderr",
     "output_type": "stream",
     "text": [
      "Warning: Environment variable SUMO_HOME is not set properly, disabling XML validation. Set 'auto' or 'always' for web lookups.\n",
      "Warning: Vehicle 'flow_emergency_ns_1.1' performs emergency braking on lane 'n_t_1' with decel=9.00, wished=4.50, severity=1.00, time=252.00.\n"
     ]
    },
    {
     "name": "stdout",
     "output_type": "stream",
     "text": [
      "Step #300.00 (0ms ?*RT. ?UPS, TraCI: 12ms, vehicles TOT 215 ACT 28 BUF 0)                 \r"
     ]
    },
    {
     "name": "stderr",
     "output_type": "stream",
     "text": [
      "Warning: Vehicle 'flow_emergency_ns_2.2' performs emergency braking on lane 'w_t_1' with decel=9.00, wished=4.50, severity=1.00, time=348.00.\n"
     ]
    },
    {
     "name": "stdout",
     "output_type": "stream",
     "text": [
      "Step #500.00 (0ms ?*RT. ?UPS, TraCI: 13ms, vehicles TOT 353 ACT 29 BUF 0)                 \n",
      "Episode:  127\n",
      " Retrying in 1 seconds\n"
     ]
    },
    {
     "name": "stderr",
     "output_type": "stream",
     "text": [
      "Warning: Environment variable SUMO_HOME is not set properly, disabling XML validation. Set 'auto' or 'always' for web lookups.\n"
     ]
    },
    {
     "name": "stdout",
     "output_type": "stream",
     "text": [
      "Step #500.00 (0ms ?*RT. ?UPS, TraCI: 17ms, vehicles TOT 374 ACT 39 BUF 0)                 \n",
      "Episode:  128\n",
      " Retrying in 1 seconds\n"
     ]
    },
    {
     "name": "stderr",
     "output_type": "stream",
     "text": [
      "Warning: Environment variable SUMO_HOME is not set properly, disabling XML validation. Set 'auto' or 'always' for web lookups.\n"
     ]
    },
    {
     "name": "stdout",
     "output_type": "stream",
     "text": [
      "Step #500.00 (0ms ?*RT. ?UPS, TraCI: 13ms, vehicles TOT 367 ACT 30 BUF 0)                 \n",
      "Episode:  129\n",
      " Retrying in 1 seconds\n"
     ]
    },
    {
     "name": "stderr",
     "output_type": "stream",
     "text": [
      "Warning: Environment variable SUMO_HOME is not set properly, disabling XML validation. Set 'auto' or 'always' for web lookups.\n"
     ]
    },
    {
     "name": "stdout",
     "output_type": "stream",
     "text": [
      "Step #500.00 (0ms ?*RT. ?UPS, TraCI: 12ms, vehicles TOT 367 ACT 26 BUF 0)                 \n",
      "Episode:  130\n",
      " Retrying in 1 seconds\n"
     ]
    },
    {
     "name": "stderr",
     "output_type": "stream",
     "text": [
      "Warning: Environment variable SUMO_HOME is not set properly, disabling XML validation. Set 'auto' or 'always' for web lookups.\n",
      "Warning: Vehicle 'flow_emergency_ns_2.2' performs emergency braking on lane ':t_2_1' with decel=9.00, wished=4.50, severity=1.00, time=208.00.\n"
     ]
    },
    {
     "name": "stdout",
     "output_type": "stream",
     "text": [
      "Step #400.00 (0ms ?*RT. ?UPS, TraCI: 15ms, vehicles TOT 285 ACT 32 BUF 0)                 \r"
     ]
    },
    {
     "name": "stderr",
     "output_type": "stream",
     "text": [
      "Warning: Vehicle 'flow_emergency_ns_1.0' performs emergency braking on lane 'n_t_1' with decel=9.00, wished=4.50, severity=1.00, time=429.00.\n"
     ]
    },
    {
     "name": "stdout",
     "output_type": "stream",
     "text": [
      "Step #500.00 (0ms ?*RT. ?UPS, TraCI: 15ms, vehicles TOT 347 ACT 32 BUF 0)                 \n",
      "Episode:  131\n",
      " Retrying in 1 seconds\n"
     ]
    },
    {
     "name": "stderr",
     "output_type": "stream",
     "text": [
      "Warning: Environment variable SUMO_HOME is not set properly, disabling XML validation. Set 'auto' or 'always' for web lookups.\n"
     ]
    },
    {
     "name": "stdout",
     "output_type": "stream",
     "text": [
      "Step #500.00 (0ms ?*RT. ?UPS, TraCI: 13ms, vehicles TOT 349 ACT 29 BUF 0)                 \n",
      "Episode:  132\n",
      " Retrying in 1 seconds\n"
     ]
    },
    {
     "name": "stderr",
     "output_type": "stream",
     "text": [
      "Warning: Environment variable SUMO_HOME is not set properly, disabling XML validation. Set 'auto' or 'always' for web lookups.\n"
     ]
    },
    {
     "name": "stdout",
     "output_type": "stream",
     "text": [
      "Step #500.00 (0ms ?*RT. ?UPS, TraCI: 14ms, vehicles TOT 358 ACT 33 BUF 0)                 \n",
      "Episode:  133\n",
      " Retrying in 1 seconds\n"
     ]
    },
    {
     "name": "stderr",
     "output_type": "stream",
     "text": [
      "Warning: Environment variable SUMO_HOME is not set properly, disabling XML validation. Set 'auto' or 'always' for web lookups.\n"
     ]
    },
    {
     "name": "stdout",
     "output_type": "stream",
     "text": [
      "Step #500.00 (1ms ~= 1000.00*RT, ~42000.00UPS, TraCI: 18ms, vehicles TOT 352 ACT 42 BUF 0)\n",
      "Episode:  134\n",
      " Retrying in 1 seconds\n"
     ]
    },
    {
     "name": "stderr",
     "output_type": "stream",
     "text": [
      "Warning: Environment variable SUMO_HOME is not set properly, disabling XML validation. Set 'auto' or 'always' for web lookups.\n"
     ]
    },
    {
     "name": "stdout",
     "output_type": "stream",
     "text": [
      "Step #500.00 (0ms ?*RT. ?UPS, TraCI: 14ms, vehicles TOT 374 ACT 32 BUF 0)                 \n",
      "Episode:  135\n",
      " Retrying in 1 seconds\n"
     ]
    },
    {
     "name": "stderr",
     "output_type": "stream",
     "text": [
      "Warning: Environment variable SUMO_HOME is not set properly, disabling XML validation. Set 'auto' or 'always' for web lookups.\n"
     ]
    },
    {
     "name": "stdout",
     "output_type": "stream",
     "text": [
      "Step #500.00 (0ms ?*RT. ?UPS, TraCI: 13ms, vehicles TOT 330 ACT 31 BUF 0)                 \n",
      "Episode:  136\n",
      " Retrying in 1 seconds\n"
     ]
    },
    {
     "name": "stderr",
     "output_type": "stream",
     "text": [
      "Warning: Environment variable SUMO_HOME is not set properly, disabling XML validation. Set 'auto' or 'always' for web lookups.\n"
     ]
    },
    {
     "name": "stdout",
     "output_type": "stream",
     "text": [
      "Step #500.00 (0ms ?*RT. ?UPS, TraCI: 19ms, vehicles TOT 353 ACT 43 BUF 9)                 \n",
      "Episode:  137\n",
      " Retrying in 1 seconds\n"
     ]
    },
    {
     "name": "stderr",
     "output_type": "stream",
     "text": [
      "Warning: Environment variable SUMO_HOME is not set properly, disabling XML validation. Set 'auto' or 'always' for web lookups.\n"
     ]
    },
    {
     "name": "stdout",
     "output_type": "stream",
     "text": [
      "Step #500.00 (0ms ?*RT. ?UPS, TraCI: 18ms, vehicles TOT 341 ACT 40 BUF 35)                \n",
      "Episode:  138\n",
      " Retrying in 1 seconds\n"
     ]
    },
    {
     "name": "stderr",
     "output_type": "stream",
     "text": [
      "Warning: Environment variable SUMO_HOME is not set properly, disabling XML validation. Set 'auto' or 'always' for web lookups.\n"
     ]
    },
    {
     "name": "stdout",
     "output_type": "stream",
     "text": [
      "Step #500.00 (0ms ?*RT. ?UPS, TraCI: 16ms, vehicles TOT 342 ACT 38 BUF 9)                 \n",
      "Episode:  139\n",
      " Retrying in 1 seconds\n"
     ]
    },
    {
     "name": "stderr",
     "output_type": "stream",
     "text": [
      "Warning: Environment variable SUMO_HOME is not set properly, disabling XML validation. Set 'auto' or 'always' for web lookups.\n"
     ]
    },
    {
     "name": "stdout",
     "output_type": "stream",
     "text": [
      "Step #500.00 (0ms ?*RT. ?UPS, TraCI: 16ms, vehicles TOT 327 ACT 37 BUF 41)                \n",
      "Episode:  140\n",
      " Retrying in 1 seconds\n"
     ]
    },
    {
     "name": "stderr",
     "output_type": "stream",
     "text": [
      "Warning: Environment variable SUMO_HOME is not set properly, disabling XML validation. Set 'auto' or 'always' for web lookups.\n"
     ]
    },
    {
     "name": "stdout",
     "output_type": "stream",
     "text": [
      "Step #500.00 (0ms ?*RT. ?UPS, TraCI: 16ms, vehicles TOT 325 ACT 36 BUF 5)                 \n",
      "Episode:  141\n",
      " Retrying in 1 seconds\n"
     ]
    },
    {
     "name": "stderr",
     "output_type": "stream",
     "text": [
      "Warning: Environment variable SUMO_HOME is not set properly, disabling XML validation. Set 'auto' or 'always' for web lookups.\n",
      "Warning: Vehicle 'flow_emergency_ns_1.4' performs emergency braking on lane 'n_t_1' with decel=9.00, wished=4.50, severity=1.00, time=396.00.\n"
     ]
    },
    {
     "name": "stdout",
     "output_type": "stream",
     "text": [
      "Step #500.00 (1ms ~= 1000.00*RT, ~38000.00UPS, TraCI: 16ms, vehicles TOT 312 ACT 38 BUF 70\n",
      "Episode:  142\n",
      " Retrying in 1 seconds\n"
     ]
    },
    {
     "name": "stderr",
     "output_type": "stream",
     "text": [
      "Warning: Environment variable SUMO_HOME is not set properly, disabling XML validation. Set 'auto' or 'always' for web lookups.\n"
     ]
    },
    {
     "name": "stdout",
     "output_type": "stream",
     "text": [
      "Step #500.00 (0ms ?*RT. ?UPS, TraCI: 17ms, vehicles TOT 300 ACT 40 BUF 59)                \n",
      "Episode:  143\n",
      " Retrying in 1 seconds\n"
     ]
    },
    {
     "name": "stderr",
     "output_type": "stream",
     "text": [
      "Warning: Environment variable SUMO_HOME is not set properly, disabling XML validation. Set 'auto' or 'always' for web lookups.\n"
     ]
    },
    {
     "name": "stdout",
     "output_type": "stream",
     "text": [
      "Step #500.00 (0ms ?*RT. ?UPS, TraCI: 20ms, vehicles TOT 293 ACT 43 BUF 60)                \n",
      "Episode:  144\n",
      " Retrying in 1 seconds\n"
     ]
    },
    {
     "name": "stderr",
     "output_type": "stream",
     "text": [
      "Warning: Environment variable SUMO_HOME is not set properly, disabling XML validation. Set 'auto' or 'always' for web lookups.\n"
     ]
    },
    {
     "name": "stdout",
     "output_type": "stream",
     "text": [
      "Step #500.00 (0ms ?*RT. ?UPS, TraCI: 19ms, vehicles TOT 291 ACT 41 BUF 85)                \n",
      "Episode:  145\n",
      " Retrying in 1 seconds\n"
     ]
    },
    {
     "name": "stderr",
     "output_type": "stream",
     "text": [
      "Warning: Environment variable SUMO_HOME is not set properly, disabling XML validation. Set 'auto' or 'always' for web lookups.\n"
     ]
    },
    {
     "name": "stdout",
     "output_type": "stream",
     "text": [
      "Step #500.00 (1ms ~= 1000.00*RT, ~37000.00UPS, TraCI: 17ms, vehicles TOT 271 ACT 37 BUF 69\n",
      "Episode:  146\n",
      " Retrying in 1 seconds\n"
     ]
    },
    {
     "name": "stderr",
     "output_type": "stream",
     "text": [
      "Warning: Environment variable SUMO_HOME is not set properly, disabling XML validation. Set 'auto' or 'always' for web lookups.\n"
     ]
    },
    {
     "name": "stdout",
     "output_type": "stream",
     "text": [
      "Step #500.00 (0ms ?*RT. ?UPS, TraCI: 19ms, vehicles TOT 240 ACT 40 BUF 108)               \n",
      "Episode:  147\n",
      " Retrying in 1 seconds\n"
     ]
    },
    {
     "name": "stderr",
     "output_type": "stream",
     "text": [
      "Warning: Environment variable SUMO_HOME is not set properly, disabling XML validation. Set 'auto' or 'always' for web lookups.\n",
      "Warning: Vehicle 'flow_emergency_ns_1.0' performs emergency braking on lane 'n_t_1' with decel=9.00, wished=4.50, severity=1.00, time=186.00.\n"
     ]
    },
    {
     "name": "stdout",
     "output_type": "stream",
     "text": [
      "Step #500.00 (0ms ?*RT. ?UPS, TraCI: 21ms, vehicles TOT 301 ACT 45 BUF 84)                \n",
      "Episode:  148\n",
      " Retrying in 1 seconds\n"
     ]
    },
    {
     "name": "stderr",
     "output_type": "stream",
     "text": [
      "Warning: Environment variable SUMO_HOME is not set properly, disabling XML validation. Set 'auto' or 'always' for web lookups.\n"
     ]
    },
    {
     "name": "stdout",
     "output_type": "stream",
     "text": [
      "Step #500.00 (0ms ?*RT. ?UPS, TraCI: 18ms, vehicles TOT 304 ACT 40 BUF 50)                \n",
      "Episode:  149\n",
      " Retrying in 1 seconds\n"
     ]
    },
    {
     "name": "stderr",
     "output_type": "stream",
     "text": [
      "Warning: Environment variable SUMO_HOME is not set properly, disabling XML validation. Set 'auto' or 'always' for web lookups.\n"
     ]
    },
    {
     "name": "stdout",
     "output_type": "stream",
     "text": [
      "Step #500.00 (0ms ?*RT. ?UPS, TraCI: 17ms, vehicles TOT 338 ACT 37 BUF 23)                \n",
      "Episode:  150\n",
      " Retrying in 1 seconds\n"
     ]
    },
    {
     "name": "stderr",
     "output_type": "stream",
     "text": [
      "Warning: Environment variable SUMO_HOME is not set properly, disabling XML validation. Set 'auto' or 'always' for web lookups.\n"
     ]
    },
    {
     "name": "stdout",
     "output_type": "stream",
     "text": [
      "Step #500.00 (0ms ?*RT. ?UPS, TraCI: 19ms, vehicles TOT 333 ACT 44 BUF 26)                \n",
      "Episode:  151\n",
      " Retrying in 1 seconds\n"
     ]
    },
    {
     "name": "stderr",
     "output_type": "stream",
     "text": [
      "Warning: Environment variable SUMO_HOME is not set properly, disabling XML validation. Set 'auto' or 'always' for web lookups.\n"
     ]
    },
    {
     "name": "stdout",
     "output_type": "stream",
     "text": [
      "Step #500.00 (0ms ?*RT. ?UPS, TraCI: 19ms, vehicles TOT 346 ACT 42 BUF 7)                 \n",
      "Episode:  152\n",
      " Retrying in 1 seconds\n"
     ]
    },
    {
     "name": "stderr",
     "output_type": "stream",
     "text": [
      "Warning: Environment variable SUMO_HOME is not set properly, disabling XML validation. Set 'auto' or 'always' for web lookups.\n"
     ]
    },
    {
     "name": "stdout",
     "output_type": "stream",
     "text": [
      "Step #500.00 (0ms ?*RT. ?UPS, TraCI: 18ms, vehicles TOT 319 ACT 42 BUF 47)                \n",
      "Episode:  153\n",
      " Retrying in 1 seconds\n"
     ]
    },
    {
     "name": "stderr",
     "output_type": "stream",
     "text": [
      "Warning: Environment variable SUMO_HOME is not set properly, disabling XML validation. Set 'auto' or 'always' for web lookups.\n"
     ]
    },
    {
     "name": "stdout",
     "output_type": "stream",
     "text": [
      "Step #500.00 (0ms ?*RT. ?UPS, TraCI: 17ms, vehicles TOT 254 ACT 38 BUF 69)                \n",
      "Episode:  154\n",
      " Retrying in 1 seconds\n"
     ]
    },
    {
     "name": "stderr",
     "output_type": "stream",
     "text": [
      "Warning: Environment variable SUMO_HOME is not set properly, disabling XML validation. Set 'auto' or 'always' for web lookups.\n"
     ]
    },
    {
     "name": "stdout",
     "output_type": "stream",
     "text": [
      "Step #500.00 (0ms ?*RT. ?UPS, TraCI: 18ms, vehicles TOT 185 ACT 40 BUF 169)               \n",
      "Episode:  155\n",
      " Retrying in 1 seconds\n"
     ]
    },
    {
     "name": "stderr",
     "output_type": "stream",
     "text": [
      "Warning: Environment variable SUMO_HOME is not set properly, disabling XML validation. Set 'auto' or 'always' for web lookups.\n"
     ]
    },
    {
     "name": "stdout",
     "output_type": "stream",
     "text": [
      "Step #500.00 (0ms ?*RT. ?UPS, TraCI: 21ms, vehicles TOT 206 ACT 46 BUF 139)               \n",
      "Episode:  156\n",
      " Retrying in 1 seconds\n"
     ]
    },
    {
     "name": "stderr",
     "output_type": "stream",
     "text": [
      "Warning: Environment variable SUMO_HOME is not set properly, disabling XML validation. Set 'auto' or 'always' for web lookups.\n"
     ]
    },
    {
     "name": "stdout",
     "output_type": "stream",
     "text": [
      "Step #500.00 (0ms ?*RT. ?UPS, TraCI: 18ms, vehicles TOT 207 ACT 39 BUF 168)               \n",
      "Episode:  157\n",
      " Retrying in 1 seconds\n"
     ]
    },
    {
     "name": "stderr",
     "output_type": "stream",
     "text": [
      "Warning: Environment variable SUMO_HOME is not set properly, disabling XML validation. Set 'auto' or 'always' for web lookups.\n"
     ]
    },
    {
     "name": "stdout",
     "output_type": "stream",
     "text": [
      "Step #500.00 (0ms ?*RT. ?UPS, TraCI: 19ms, vehicles TOT 231 ACT 45 BUF 106)               \n",
      "Episode:  158\n",
      " Retrying in 1 seconds\n"
     ]
    },
    {
     "name": "stderr",
     "output_type": "stream",
     "text": [
      "Warning: Environment variable SUMO_HOME is not set properly, disabling XML validation. Set 'auto' or 'always' for web lookups.\n"
     ]
    },
    {
     "name": "stdout",
     "output_type": "stream",
     "text": [
      "Step #500.00 (0ms ?*RT. ?UPS, TraCI: 18ms, vehicles TOT 289 ACT 39 BUF 74)                \n",
      "Episode:  159\n",
      " Retrying in 1 seconds\n"
     ]
    },
    {
     "name": "stderr",
     "output_type": "stream",
     "text": [
      "Warning: Environment variable SUMO_HOME is not set properly, disabling XML validation. Set 'auto' or 'always' for web lookups.\n"
     ]
    },
    {
     "name": "stdout",
     "output_type": "stream",
     "text": [
      "Step #500.00 (0ms ?*RT. ?UPS, TraCI: 19ms, vehicles TOT 334 ACT 45 BUF 12)                \n",
      "Episode:  160\n",
      " Retrying in 1 seconds\n"
     ]
    },
    {
     "name": "stderr",
     "output_type": "stream",
     "text": [
      "Warning: Environment variable SUMO_HOME is not set properly, disabling XML validation. Set 'auto' or 'always' for web lookups.\n"
     ]
    },
    {
     "name": "stdout",
     "output_type": "stream",
     "text": [
      "Step #500.00 (0ms ?*RT. ?UPS, TraCI: 15ms, vehicles TOT 364 ACT 34 BUF 0)                 \n",
      "Episode:  161\n",
      " Retrying in 1 seconds\n"
     ]
    },
    {
     "name": "stderr",
     "output_type": "stream",
     "text": [
      "Warning: Environment variable SUMO_HOME is not set properly, disabling XML validation. Set 'auto' or 'always' for web lookups.\n"
     ]
    },
    {
     "name": "stdout",
     "output_type": "stream",
     "text": [
      "Step #500.00 (0ms ?*RT. ?UPS, TraCI: 12ms, vehicles TOT 338 ACT 25 BUF 0)                 \n",
      "Episode:  162\n",
      " Retrying in 1 seconds\n"
     ]
    },
    {
     "name": "stderr",
     "output_type": "stream",
     "text": [
      "Warning: Environment variable SUMO_HOME is not set properly, disabling XML validation. Set 'auto' or 'always' for web lookups.\n"
     ]
    },
    {
     "name": "stdout",
     "output_type": "stream",
     "text": [
      "Step #500.00 (0ms ?*RT. ?UPS, TraCI: 12ms, vehicles TOT 332 ACT 27 BUF 0)                 \n",
      "Episode:  163\n",
      " Retrying in 1 seconds\n"
     ]
    },
    {
     "name": "stderr",
     "output_type": "stream",
     "text": [
      "Warning: Environment variable SUMO_HOME is not set properly, disabling XML validation. Set 'auto' or 'always' for web lookups.\n"
     ]
    },
    {
     "name": "stdout",
     "output_type": "stream",
     "text": [
      "Step #500.00 (0ms ?*RT. ?UPS, TraCI: 10ms, vehicles TOT 343 ACT 23 BUF 0)                 \n",
      "Episode:  164\n",
      " Retrying in 1 seconds\n"
     ]
    },
    {
     "name": "stderr",
     "output_type": "stream",
     "text": [
      "Warning: Environment variable SUMO_HOME is not set properly, disabling XML validation. Set 'auto' or 'always' for web lookups.\n"
     ]
    },
    {
     "name": "stdout",
     "output_type": "stream",
     "text": [
      "Step #500.00 (0ms ?*RT. ?UPS, TraCI: 11ms, vehicles TOT 357 ACT 24 BUF 0)                 \n",
      "Episode:  165\n",
      " Retrying in 1 seconds\n"
     ]
    },
    {
     "name": "stderr",
     "output_type": "stream",
     "text": [
      "Warning: Environment variable SUMO_HOME is not set properly, disabling XML validation. Set 'auto' or 'always' for web lookups.\n"
     ]
    },
    {
     "name": "stdout",
     "output_type": "stream",
     "text": [
      "Step #500.00 (0ms ?*RT. ?UPS, TraCI: 14ms, vehicles TOT 378 ACT 32 BUF 0)                 \n",
      "Episode:  166\n",
      " Retrying in 1 seconds\n"
     ]
    },
    {
     "name": "stderr",
     "output_type": "stream",
     "text": [
      "Warning: Environment variable SUMO_HOME is not set properly, disabling XML validation. Set 'auto' or 'always' for web lookups.\n"
     ]
    },
    {
     "name": "stdout",
     "output_type": "stream",
     "text": [
      "Step #500.00 (0ms ?*RT. ?UPS, TraCI: 16ms, vehicles TOT 361 ACT 36 BUF 0)                 \n",
      "Episode:  167\n",
      " Retrying in 1 seconds\n"
     ]
    },
    {
     "name": "stderr",
     "output_type": "stream",
     "text": [
      "Warning: Environment variable SUMO_HOME is not set properly, disabling XML validation. Set 'auto' or 'always' for web lookups.\n"
     ]
    },
    {
     "name": "stdout",
     "output_type": "stream",
     "text": [
      "Step #500.00 (1ms ~= 1000.00*RT, ~34000.00UPS, TraCI: 13ms, vehicles TOT 358 ACT 34 BUF 0)\n",
      "Episode:  168\n",
      " Retrying in 1 seconds\n"
     ]
    },
    {
     "name": "stderr",
     "output_type": "stream",
     "text": [
      "Warning: Environment variable SUMO_HOME is not set properly, disabling XML validation. Set 'auto' or 'always' for web lookups.\n"
     ]
    },
    {
     "name": "stdout",
     "output_type": "stream",
     "text": [
      "Step #500.00 (0ms ?*RT. ?UPS, TraCI: 16ms, vehicles TOT 376 ACT 37 BUF 0)                 \n",
      "Episode:  169\n",
      " Retrying in 1 seconds\n"
     ]
    },
    {
     "name": "stderr",
     "output_type": "stream",
     "text": [
      "Warning: Environment variable SUMO_HOME is not set properly, disabling XML validation. Set 'auto' or 'always' for web lookups.\n"
     ]
    },
    {
     "name": "stdout",
     "output_type": "stream",
     "text": [
      "Step #500.00 (1ms ~= 1000.00*RT, ~38000.00UPS, TraCI: 16ms, vehicles TOT 372 ACT 38 BUF 0)\n",
      "Episode:  170\n",
      " Retrying in 1 seconds\n"
     ]
    },
    {
     "name": "stderr",
     "output_type": "stream",
     "text": [
      "Warning: Environment variable SUMO_HOME is not set properly, disabling XML validation. Set 'auto' or 'always' for web lookups.\n"
     ]
    },
    {
     "name": "stdout",
     "output_type": "stream",
     "text": [
      "Step #500.00 (0ms ?*RT. ?UPS, TraCI: 16ms, vehicles TOT 369 ACT 36 BUF 0)                 \n",
      "Episode:  171\n",
      " Retrying in 1 seconds\n"
     ]
    },
    {
     "name": "stderr",
     "output_type": "stream",
     "text": [
      "Warning: Environment variable SUMO_HOME is not set properly, disabling XML validation. Set 'auto' or 'always' for web lookups.\n"
     ]
    },
    {
     "name": "stdout",
     "output_type": "stream",
     "text": [
      "Step #500.00 (1ms ~= 1000.00*RT, ~41000.00UPS, TraCI: 17ms, vehicles TOT 364 ACT 41 BUF 0)\n",
      "Episode:  172\n",
      " Retrying in 1 seconds\n"
     ]
    },
    {
     "name": "stderr",
     "output_type": "stream",
     "text": [
      "Warning: Environment variable SUMO_HOME is not set properly, disabling XML validation. Set 'auto' or 'always' for web lookups.\n"
     ]
    },
    {
     "name": "stdout",
     "output_type": "stream",
     "text": [
      "Step #500.00 (1ms ~= 1000.00*RT, ~37000.00UPS, TraCI: 15ms, vehicles TOT 355 ACT 37 BUF 0)\n",
      "Episode:  173\n",
      " Retrying in 1 seconds\n"
     ]
    },
    {
     "name": "stderr",
     "output_type": "stream",
     "text": [
      "Warning: Environment variable SUMO_HOME is not set properly, disabling XML validation. Set 'auto' or 'always' for web lookups.\n"
     ]
    },
    {
     "name": "stdout",
     "output_type": "stream",
     "text": [
      "Step #500.00 (0ms ?*RT. ?UPS, TraCI: 14ms, vehicles TOT 364 ACT 34 BUF 0)                 \n",
      "Episode:  174\n",
      " Retrying in 1 seconds\n"
     ]
    },
    {
     "name": "stderr",
     "output_type": "stream",
     "text": [
      "Warning: Environment variable SUMO_HOME is not set properly, disabling XML validation. Set 'auto' or 'always' for web lookups.\n"
     ]
    },
    {
     "name": "stdout",
     "output_type": "stream",
     "text": [
      "Step #500.00 (0ms ?*RT. ?UPS, TraCI: 16ms, vehicles TOT 367 ACT 37 BUF 0)                 \n",
      "Episode:  175\n",
      " Retrying in 1 seconds\n"
     ]
    },
    {
     "name": "stderr",
     "output_type": "stream",
     "text": [
      "Warning: Environment variable SUMO_HOME is not set properly, disabling XML validation. Set 'auto' or 'always' for web lookups.\n"
     ]
    },
    {
     "name": "stdout",
     "output_type": "stream",
     "text": [
      "Step #500.00 (0ms ?*RT. ?UPS, TraCI: 13ms, vehicles TOT 367 ACT 32 BUF 0)                 \n",
      "Episode:  176\n",
      " Retrying in 1 seconds\n"
     ]
    },
    {
     "name": "stderr",
     "output_type": "stream",
     "text": [
      "Warning: Environment variable SUMO_HOME is not set properly, disabling XML validation. Set 'auto' or 'always' for web lookups.\n"
     ]
    },
    {
     "name": "stdout",
     "output_type": "stream",
     "text": [
      "Step #500.00 (0ms ?*RT. ?UPS, TraCI: 15ms, vehicles TOT 331 ACT 33 BUF 0)                 \n",
      "Episode:  177\n",
      " Retrying in 1 seconds\n"
     ]
    },
    {
     "name": "stderr",
     "output_type": "stream",
     "text": [
      "Warning: Environment variable SUMO_HOME is not set properly, disabling XML validation. Set 'auto' or 'always' for web lookups.\n"
     ]
    },
    {
     "name": "stdout",
     "output_type": "stream",
     "text": [
      "Step #500.00 (0ms ?*RT. ?UPS, TraCI: 14ms, vehicles TOT 346 ACT 30 BUF 0)                 \n",
      "Episode:  178\n",
      " Retrying in 1 seconds\n"
     ]
    },
    {
     "name": "stderr",
     "output_type": "stream",
     "text": [
      "Warning: Environment variable SUMO_HOME is not set properly, disabling XML validation. Set 'auto' or 'always' for web lookups.\n"
     ]
    },
    {
     "name": "stdout",
     "output_type": "stream",
     "text": [
      "Step #500.00 (0ms ?*RT. ?UPS, TraCI: 13ms, vehicles TOT 334 ACT 25 BUF 0)                 \n",
      "Episode:  179\n",
      " Retrying in 1 seconds\n"
     ]
    },
    {
     "name": "stderr",
     "output_type": "stream",
     "text": [
      "Warning: Environment variable SUMO_HOME is not set properly, disabling XML validation. Set 'auto' or 'always' for web lookups.\n"
     ]
    },
    {
     "name": "stdout",
     "output_type": "stream",
     "text": [
      "Step #500.00 (0ms ?*RT. ?UPS, TraCI: 12ms, vehicles TOT 334 ACT 28 BUF 0)                 \n",
      "Episode:  180\n",
      " Retrying in 1 seconds\n"
     ]
    },
    {
     "name": "stderr",
     "output_type": "stream",
     "text": [
      "Warning: Environment variable SUMO_HOME is not set properly, disabling XML validation. Set 'auto' or 'always' for web lookups.\n"
     ]
    },
    {
     "name": "stdout",
     "output_type": "stream",
     "text": [
      "Step #500.00 (0ms ?*RT. ?UPS, TraCI: 12ms, vehicles TOT 355 ACT 29 BUF 0)                 \n",
      "Episode:  181\n",
      " Retrying in 1 seconds\n"
     ]
    },
    {
     "name": "stderr",
     "output_type": "stream",
     "text": [
      "Warning: Environment variable SUMO_HOME is not set properly, disabling XML validation. Set 'auto' or 'always' for web lookups.\n"
     ]
    },
    {
     "name": "stdout",
     "output_type": "stream",
     "text": [
      "Step #500.00 (0ms ?*RT. ?UPS, TraCI: 14ms, vehicles TOT 366 ACT 35 BUF 0)                 \n",
      "Episode:  182\n",
      " Retrying in 1 seconds\n"
     ]
    },
    {
     "name": "stderr",
     "output_type": "stream",
     "text": [
      "Warning: Environment variable SUMO_HOME is not set properly, disabling XML validation. Set 'auto' or 'always' for web lookups.\n"
     ]
    },
    {
     "name": "stdout",
     "output_type": "stream",
     "text": [
      "Step #500.00 (0ms ?*RT. ?UPS, TraCI: 15ms, vehicles TOT 362 ACT 34 BUF 0)                 \n",
      "Episode:  183\n",
      " Retrying in 1 seconds\n"
     ]
    },
    {
     "name": "stderr",
     "output_type": "stream",
     "text": [
      "Warning: Environment variable SUMO_HOME is not set properly, disabling XML validation. Set 'auto' or 'always' for web lookups.\n"
     ]
    },
    {
     "name": "stdout",
     "output_type": "stream",
     "text": [
      "Step #500.00 (0ms ?*RT. ?UPS, TraCI: 13ms, vehicles TOT 361 ACT 30 BUF 0)                 \n",
      "Episode:  184\n",
      " Retrying in 1 seconds\n"
     ]
    },
    {
     "name": "stderr",
     "output_type": "stream",
     "text": [
      "Warning: Environment variable SUMO_HOME is not set properly, disabling XML validation. Set 'auto' or 'always' for web lookups.\n"
     ]
    },
    {
     "name": "stdout",
     "output_type": "stream",
     "text": [
      "Step #500.00 (0ms ?*RT. ?UPS, TraCI: 13ms, vehicles TOT 360 ACT 32 BUF 0)                 \n",
      "Episode:  185\n",
      " Retrying in 1 seconds\n"
     ]
    },
    {
     "name": "stderr",
     "output_type": "stream",
     "text": [
      "Warning: Environment variable SUMO_HOME is not set properly, disabling XML validation. Set 'auto' or 'always' for web lookups.\n"
     ]
    },
    {
     "name": "stdout",
     "output_type": "stream",
     "text": [
      "Step #500.00 (0ms ?*RT. ?UPS, TraCI: 15ms, vehicles TOT 344 ACT 35 BUF 0)                 \n",
      "Episode:  186\n",
      " Retrying in 1 seconds\n"
     ]
    },
    {
     "name": "stderr",
     "output_type": "stream",
     "text": [
      "Warning: Environment variable SUMO_HOME is not set properly, disabling XML validation. Set 'auto' or 'always' for web lookups.\n"
     ]
    },
    {
     "name": "stdout",
     "output_type": "stream",
     "text": [
      "Step #500.00 (0ms ?*RT. ?UPS, TraCI: 15ms, vehicles TOT 370 ACT 33 BUF 0)                 \n",
      "Episode:  187\n",
      " Retrying in 1 seconds\n"
     ]
    },
    {
     "name": "stderr",
     "output_type": "stream",
     "text": [
      "Warning: Environment variable SUMO_HOME is not set properly, disabling XML validation. Set 'auto' or 'always' for web lookups.\n"
     ]
    },
    {
     "name": "stdout",
     "output_type": "stream",
     "text": [
      "Step #500.00 (1ms ~= 1000.00*RT, ~26000.00UPS, TraCI: 11ms, vehicles TOT 379 ACT 26 BUF 0)\n",
      "Episode:  188\n",
      " Retrying in 1 seconds\n"
     ]
    },
    {
     "name": "stderr",
     "output_type": "stream",
     "text": [
      "Warning: Environment variable SUMO_HOME is not set properly, disabling XML validation. Set 'auto' or 'always' for web lookups.\n",
      "Warning: Vehicle 'flow_emergency_ns_1.1' performs emergency braking on lane 'n_t_1' with decel=9.00, wished=4.50, severity=1.00, time=23.00.\n"
     ]
    },
    {
     "name": "stdout",
     "output_type": "stream",
     "text": [
      "Step #500.00 (0ms ?*RT. ?UPS, TraCI: 14ms, vehicles TOT 327 ACT 31 BUF 0)                 \n",
      "Episode:  189\n",
      " Retrying in 1 seconds\n"
     ]
    },
    {
     "name": "stderr",
     "output_type": "stream",
     "text": [
      "Warning: Environment variable SUMO_HOME is not set properly, disabling XML validation. Set 'auto' or 'always' for web lookups.\n"
     ]
    },
    {
     "name": "stdout",
     "output_type": "stream",
     "text": [
      "Step #500.00 (0ms ?*RT. ?UPS, TraCI: 12ms, vehicles TOT 357 ACT 26 BUF 0)                 \n",
      "Episode:  190\n",
      " Retrying in 1 seconds\n"
     ]
    },
    {
     "name": "stderr",
     "output_type": "stream",
     "text": [
      "Warning: Environment variable SUMO_HOME is not set properly, disabling XML validation. Set 'auto' or 'always' for web lookups.\n"
     ]
    },
    {
     "name": "stdout",
     "output_type": "stream",
     "text": [
      "Step #500.00 (0ms ?*RT. ?UPS, TraCI: 15ms, vehicles TOT 346 ACT 34 BUF 0)                 \n",
      "Episode:  191\n",
      " Retrying in 1 seconds\n"
     ]
    },
    {
     "name": "stderr",
     "output_type": "stream",
     "text": [
      "Warning: Environment variable SUMO_HOME is not set properly, disabling XML validation. Set 'auto' or 'always' for web lookups.\n"
     ]
    },
    {
     "name": "stdout",
     "output_type": "stream",
     "text": [
      "Step #500.00 (0ms ?*RT. ?UPS, TraCI: 13ms, vehicles TOT 339 ACT 28 BUF 0)                 \n",
      "Episode:  192\n",
      " Retrying in 1 seconds\n"
     ]
    },
    {
     "name": "stderr",
     "output_type": "stream",
     "text": [
      "Warning: Environment variable SUMO_HOME is not set properly, disabling XML validation. Set 'auto' or 'always' for web lookups.\n"
     ]
    },
    {
     "name": "stdout",
     "output_type": "stream",
     "text": [
      "Step #500.00 (0ms ?*RT. ?UPS, TraCI: 14ms, vehicles TOT 344 ACT 35 BUF 0)                 \n",
      "Episode:  193\n",
      " Retrying in 1 seconds\n"
     ]
    },
    {
     "name": "stderr",
     "output_type": "stream",
     "text": [
      "Warning: Environment variable SUMO_HOME is not set properly, disabling XML validation. Set 'auto' or 'always' for web lookups.\n"
     ]
    },
    {
     "name": "stdout",
     "output_type": "stream",
     "text": [
      "Step #500.00 (0ms ?*RT. ?UPS, TraCI: 15ms, vehicles TOT 339 ACT 31 BUF 0)                 \n",
      "Episode:  194\n",
      " Retrying in 1 seconds\n"
     ]
    },
    {
     "name": "stderr",
     "output_type": "stream",
     "text": [
      "Warning: Environment variable SUMO_HOME is not set properly, disabling XML validation. Set 'auto' or 'always' for web lookups.\n"
     ]
    },
    {
     "name": "stdout",
     "output_type": "stream",
     "text": [
      "Step #500.00 (0ms ?*RT. ?UPS, TraCI: 13ms, vehicles TOT 368 ACT 32 BUF 0)                 \n",
      "Episode:  195\n",
      " Retrying in 1 seconds\n"
     ]
    },
    {
     "name": "stderr",
     "output_type": "stream",
     "text": [
      "Warning: Environment variable SUMO_HOME is not set properly, disabling XML validation. Set 'auto' or 'always' for web lookups.\n"
     ]
    },
    {
     "name": "stdout",
     "output_type": "stream",
     "text": [
      "Step #500.00 (0ms ?*RT. ?UPS, TraCI: 12ms, vehicles TOT 344 ACT 27 BUF 0)                 \n",
      "Episode:  196\n",
      " Retrying in 1 seconds\n"
     ]
    },
    {
     "name": "stderr",
     "output_type": "stream",
     "text": [
      "Warning: Environment variable SUMO_HOME is not set properly, disabling XML validation. Set 'auto' or 'always' for web lookups.\n"
     ]
    },
    {
     "name": "stdout",
     "output_type": "stream",
     "text": [
      "Step #500.00 (0ms ?*RT. ?UPS, TraCI: 14ms, vehicles TOT 349 ACT 32 BUF 0)                 \n",
      "Episode:  197\n",
      " Retrying in 1 seconds\n"
     ]
    },
    {
     "name": "stderr",
     "output_type": "stream",
     "text": [
      "Warning: Environment variable SUMO_HOME is not set properly, disabling XML validation. Set 'auto' or 'always' for web lookups.\n"
     ]
    },
    {
     "name": "stdout",
     "output_type": "stream",
     "text": [
      "Step #500.00 (0ms ?*RT. ?UPS, TraCI: 16ms, vehicles TOT 373 ACT 36 BUF 0)                 \n",
      "Episode:  198\n",
      " Retrying in 1 seconds\n"
     ]
    },
    {
     "name": "stderr",
     "output_type": "stream",
     "text": [
      "Warning: Environment variable SUMO_HOME is not set properly, disabling XML validation. Set 'auto' or 'always' for web lookups.\n"
     ]
    },
    {
     "name": "stdout",
     "output_type": "stream",
     "text": [
      "Step #500.00 (0ms ?*RT. ?UPS, TraCI: 14ms, vehicles TOT 378 ACT 29 BUF 0)                 \n",
      "Episode:  199\n",
      " Retrying in 1 seconds\n"
     ]
    },
    {
     "name": "stderr",
     "output_type": "stream",
     "text": [
      "Warning: Environment variable SUMO_HOME is not set properly, disabling XML validation. Set 'auto' or 'always' for web lookups.\n"
     ]
    },
    {
     "name": "stdout",
     "output_type": "stream",
     "text": [
      "Step #500.00 (0ms ?*RT. ?UPS, TraCI: 10ms, vehicles TOT 363 ACT 24 BUF 0)                 \n"
     ]
    }
   ],
   "source": [
    "n_iters = 0 \n",
    "train_loss = []\n",
    "reward_per_episode = [0] * episodes\n",
    "epsilon_per_episode = [0] * episodes\n",
    "steps_per_episode = [0] * episodes\n",
    "wait_per_episode_lane_1 = [0] * episodes\n",
    "wait_per_episode_lane_2 = [0] * episodes\n",
    "for episode in range(episodes):\n",
    "    print(\"Episode: \", episode)\n",
    "    obs = env.reset()\n",
    "    done = {\"__all__\": False}\n",
    "    epsilon_per_episode[episode] = agent.epsilon\n",
    "    batch_loss = []\n",
    "    t = 0\n",
    "    lane_1_wt, lane_2_wt = 0, 0\n",
    "    while not done[\"__all__\"]:\n",
    "        action = agent.step(obs)\n",
    "        next_obs, reward, done, info = env.step({'t': action})\n",
    "\n",
    "        if len(info[\"emergency_waiting_time\"]) > 0:\n",
    "            for k,v in info[\"emergency_waiting_time\"].items():\n",
    "                if k == \"flow_emergency_ns_1\":\n",
    "                    wait_per_episode_lane_1[episode] += v\n",
    "                elif k == \"flow_emergency_ns_2\":\n",
    "                    wait_per_episode_lane_2[episode] += v\n",
    "        \n",
    "        n_iters = n_iters + 1\n",
    "        \n",
    "        reward_per_episode[episode] += reward['t']\n",
    "        replay_buffer[n_iters % BUFFER_SIZE] = torch.cat([torch.from_numpy(obs['t']), torch.tensor([action], dtype=torch.int32), torch.tensor([reward['t']], dtype=torch.int32), torch.from_numpy(next_obs['t']), torch.tensor([int(done[\"__all__\"])], dtype=torch.int32)]).to(torch.float32)\n",
    "        # print((next_obs['t'].shape))\n",
    "        obs = deepcopy(next_obs)\n",
    "        t += 1\n",
    "    \n",
    "    steps_per_episode[episode] += t\n",
    "    agent.decay()\n",
    "    env.close()\n",
    "    \n",
    "    if n_iters >= batch_size and episode % train_every_step == 0:\n",
    "\n",
    "        selected_transition_indices = torch.randint(low=0, high=min(n_iters, BUFFER_SIZE), size=(batch_size, ))\n",
    "        selected_transition = replay_buffer[selected_transition_indices]  #selected_transition: [sx9, a, r, s'x9, terminate flag]\n",
    "\n",
    "        td_target = torch.zeros(batch_size)\n",
    "        next_obs = selected_transition[:, 14:-1]\n",
    "        model.eval()\n",
    "        target_model.eval()\n",
    "        with torch.no_grad():\n",
    "            next_q = model(next_obs)\n",
    "            best_next_q = torch.argmax(next_q, dim = 1)\n",
    "            target_output = target_model(next_obs)\n",
    "            q_values = target_output.gather(1, best_next_q.unsqueeze(1)).squeeze(1)\n",
    "            td_target = torch.where(selected_transition[:, -1] == True, selected_transition[:, 13], selected_transition[:, 13] + discount_factor * q_values)\n",
    "\n",
    "        model.train()\n",
    "        obs = selected_transition[:, :12]\n",
    "        output = model(obs)\n",
    "        td_estimate = output.gather(1, selected_transition[:, 12][:, None].type(torch.int64)).squeeze(1)\n",
    "        loss = criterion(td_target, td_estimate)\n",
    "\n",
    "        train_loss.append(loss.item())\n",
    "        optimizer.zero_grad()\n",
    "        loss.backward()\n",
    "        optimizer.step()\n",
    "        \n",
    "    if(episode % sync_target_step == 0):\n",
    "        target_model.load_state_dict(model.state_dict())"
   ]
  },
  {
   "cell_type": "code",
   "execution_count": 8,
   "id": "2269dfca",
   "metadata": {},
   "outputs": [
    {
     "data": {
      "image/png": "[encoded data removed]",
      "text/plain": [
       "<Figure size 2000x1500 with 6 Axes>"
      ]
     },
     "metadata": {},
     "output_type": "display_data"
    }
   ],
   "source": [
    "# visualize the episode rewards, episode length and training error in one figure\n",
    "fig, axs = plt.subplots(3, 2, figsize=(20, 15))\n",
    "\n",
    "axs[0, 0].plot(range(episodes), steps_per_episode)\n",
    "axs[0, 0].set_title(\"steps per episode \")\n",
    "axs[0, 0].set_xlabel(\"Episode\")\n",
    "axs[0, 0].set_ylabel(\"Steps\")\n",
    "\n",
    "axs[0, 1].plot(range(episodes), reward_per_episode)\n",
    "axs[0, 1].set_title(\"total reward per episode \")\n",
    "axs[0, 1].set_xlabel(\"Episode\")\n",
    "axs[0, 1].set_ylabel(\"Reward\")\n",
    "\n",
    "axs[1, 0].plot(range(episodes), epsilon_per_episode)\n",
    "axs[1, 0].set_title(\"Epsilon Decay\")\n",
    "axs[1, 0].set_xlabel(\"Episode\")\n",
    "axs[1, 0].set_ylabel(\"Epsilon Value\")\n",
    "\n",
    "axs[1, 1].plot(range(len(train_loss)), train_loss)\n",
    "axs[1, 1].set_title(\"Training Loss\")\n",
    "axs[1, 1].set_xlabel(\"Episode\")\n",
    "axs[1, 1].set_ylabel(\"Loss\")\n",
    "\n",
    "axs[2, 0].plot(range(len(wait_per_episode_lane_1)), wait_per_episode_lane_1)\n",
    "axs[2, 0].set_title(\"Lane 1 Wait Time for Emergency Vehicle\")\n",
    "axs[2, 0].set_xlabel(\"Episode\")\n",
    "axs[2, 0].set_ylabel(\"Cumm. Wait time\")\n",
    "\n",
    "axs[2, 1].plot(range(len(wait_per_episode_lane_2)), wait_per_episode_lane_2)\n",
    "axs[2, 1].set_title(\"Lane 2 Wait Time for Emergency Vehicle\")\n",
    "axs[2, 1].set_xlabel(\"Episode\")\n",
    "axs[2, 1].set_ylabel(\"Cumm. Wait time\")\n",
    "\n",
    "plt.tight_layout()\n",
    "plt.show()"
   ]
  },
  {
   "cell_type": "code",
   "execution_count": 9,
   "id": "222b73a2",
   "metadata": {},
   "outputs": [
    {
     "name": "stdout",
     "output_type": "stream",
     "text": [
      " Retrying in 1 seconds\n"
     ]
    },
    {
     "name": "stderr",
     "output_type": "stream",
     "text": [
      "Warning: Environment variable SUMO_HOME is not set properly, disabling XML validation. Set 'auto' or 'always' for web lookups.\n"
     ]
    },
    {
     "name": "stdout",
     "output_type": "stream",
     "text": [
      "Step #500.00 (0ms ?*RT. ?UPS, TraCI: 11ms, vehicles TOT 372 ACT 25 BUF 0)                 \n",
      " Retrying in 1 seconds\n"
     ]
    },
    {
     "name": "stderr",
     "output_type": "stream",
     "text": [
      "Warning: Environment variable SUMO_HOME is not set properly, disabling XML validation. Set 'auto' or 'always' for web lookups.\n"
     ]
    },
    {
     "name": "stdout",
     "output_type": "stream",
     "text": [
      "Step #500.00 (0ms ?*RT. ?UPS, TraCI: 10ms, vehicles TOT 367 ACT 29 BUF 0)                 \n",
      " Retrying in 1 seconds\n"
     ]
    },
    {
     "name": "stderr",
     "output_type": "stream",
     "text": [
      "Warning: Environment variable SUMO_HOME is not set properly, disabling XML validation. Set 'auto' or 'always' for web lookups.\n"
     ]
    },
    {
     "name": "stdout",
     "output_type": "stream",
     "text": [
      "Step #500.00 (1ms ~= 1000.00*RT, ~22000.00UPS, TraCI: 9ms, vehicles TOT 352 ACT 22 BUF 0) \n",
      " Retrying in 1 seconds\n"
     ]
    },
    {
     "name": "stderr",
     "output_type": "stream",
     "text": [
      "Warning: Environment variable SUMO_HOME is not set properly, disabling XML validation. Set 'auto' or 'always' for web lookups.\n"
     ]
    },
    {
     "name": "stdout",
     "output_type": "stream",
     "text": [
      "Step #500.00 (0ms ?*RT. ?UPS, TraCI: 15ms, vehicles TOT 346 ACT 34 BUF 0)                 \n",
      " Retrying in 1 seconds\n"
     ]
    },
    {
     "name": "stderr",
     "output_type": "stream",
     "text": [
      "Warning: Environment variable SUMO_HOME is not set properly, disabling XML validation. Set 'auto' or 'always' for web lookups.\n"
     ]
    }
   ],
   "source": [
    "n_episodes = 5\n",
    "agent.epsilon = 0\n",
    "reward_per_episode = [0]*n_episodes\n",
    "wait_per_episode_lane_1 = [0] * n_episodes\n",
    "wait_per_episode_lane_2 = [0] * n_episodes\n",
    "for episode in range(n_episodes):\n",
    "    obs = env.reset()\n",
    "    done = {\"__all__\": False}\n",
    "\n",
    "    # play one episode\n",
    "    while not done[\"__all__\"]:\n",
    "        action = agent.step(obs, train=False)\n",
    "        next_obs, reward, done, info = env.step({'t': action})\n",
    "        reward_per_episode[episode] += reward['t']\n",
    "        obs = deepcopy(next_obs)\n",
    "\n",
    "        if len(info[\"emergency_waiting_time\"]) > 0:\n",
    "            for k,v in info[\"emergency_waiting_time\"].items():\n",
    "                if k == \"flow_emergency_ns_1\":\n",
    "                    wait_per_episode_lane_1[episode] += v\n",
    "                elif k == \"flow_emergency_ns_2\":\n",
    "                    wait_per_episode_lane_2[episode] += v"
   ]
  },
  {
   "cell_type": "code",
   "execution_count": 10,
   "id": "7f9b46b6",
   "metadata": {},
   "outputs": [
    {
     "data": {
      "image/png": "[encoded data removed]",
      "text/plain": [
       "<Figure size 2000x2000 with 3 Axes>"
      ]
     },
     "metadata": {},
     "output_type": "display_data"
    }
   ],
   "source": [
    "from matplotlib import pyplot as plt\n",
    "# visualize the episode rewards, episode length and training error in one figure\n",
    "fig, axs = plt.subplots(3, 1, figsize=(20, 20))\n",
    "\n",
    "axs[0].plot(range(n_episodes), reward_per_episode)\n",
    "axs[0].set_title(\"total reward per episode \")\n",
    "axs[0].set_xlabel(\"Episode\")\n",
    "axs[0].set_ylabel(\"Reward\")\n",
    "\n",
    "axs[1].plot(range(len(wait_per_episode_lane_1)), wait_per_episode_lane_1)\n",
    "axs[1].set_title(\"Lane 1 Wait Time for Emergency Vehicle\")\n",
    "axs[1].set_xlabel(\"Episode\")\n",
    "axs[1].set_ylabel(\"Cumm. Wait time\")\n",
    "\n",
    "axs[2].plot(range(len(wait_per_episode_lane_2)), wait_per_episode_lane_2)\n",
    "axs[2].set_title(\"Lane 2 Wait Time for Emergency Vehicle\")\n",
    "axs[2].set_xlabel(\"Episode\")\n",
    "axs[2].set_ylabel(\"Cumm. Wait time\")\n",
    "\n",
    "plt.tight_layout()\n",
    "plt.show()"
   ]
  },
  {
   "cell_type": "code",
   "execution_count": 11,
   "id": "8a93c4e0-92d9-4755-a16e-707a57124cc3",
   "metadata": {},
   "outputs": [],
   "source": [
    "torch.save(model.state_dict(), \"emergency_dqn.pth\")"
   ]
  },
  {
   "cell_type": "code",
   "execution_count": 12,
   "id": "bba44a02",
   "metadata": {},
   "outputs": [
    {
     "name": "stdout",
     "output_type": "stream",
     "text": [
      "Step #500.00 (0ms ?*RT. ?UPS, TraCI: 208ms, vehicles TOT 350 ACT 19 BUF 0)                \n"
     ]
    }
   ],
   "source": [
    "import traci\n",
    "\n",
    "if traci.isLoaded():\n",
    "    traci.close()"
   ]
  },
  {
   "cell_type": "code",
   "execution_count": 13,
   "id": "d816383b-b46d-4303-9cf9-36a58e819843",
   "metadata": {},
   "outputs": [
    {
     "name": "stdout",
     "output_type": "stream",
     "text": [
      " Retrying in 1 seconds\n"
     ]
    },
    {
     "name": "stderr",
     "output_type": "stream",
     "text": [
      "Warning: Environment variable SUMO_HOME is not set properly, disabling XML validation. Set 'auto' or 'always' for web lookups.\n"
     ]
    },
    {
     "name": "stdout",
     "output_type": "stream",
     "text": [
      "Step #0.00 (0ms ?*RT. ?UPS, TraCI: 5ms, vehicles TOT 0 ACT 0 BUF 0)                      \n",
      " Retrying in 1 seconds\n"
     ]
    }
   ],
   "source": [
    "env = SumoEnvironment(\n",
    "        net_file=\"single-intersection/single-intersection.net.xml\",\n",
    "        route_file=\"single-intersection/single-intersection.rou.xml\",\n",
    "        out_csv_name=\"out_csv\",\n",
    "        use_gui=True,\n",
    "        num_seconds=5000,\n",
    "        min_green=5,\n",
    "        max_green=10,\n",
    "        observation_class = CustomEmergencyObservationFunction,\n",
    "        reward_fn = emergency_reward_fn\n",
    "    )\n",
    "\n",
    "n_episodes = 1\n",
    "agent.epsilon = 0\n",
    "reward_per_episode = [0]*n_episodes\n",
    "\n",
    "for episode in range(n_episodes):\n",
    "    obs = env.reset()\n",
    "    done = {\"__all__\": False}\n",
    "\n",
    "    # play one episode\n",
    "    while not done[\"__all__\"]:\n",
    "        action = agent.step(obs, train=False)\n",
    "        next_obs, reward, done, _ = env.step({'t': action})\n",
    "        reward_per_episode[episode] += reward['t']\n",
    "        obs = deepcopy(next_obs)"
   ]
  },
  {
   "cell_type": "code",
   "execution_count": 14,
   "id": "5883abe8-5909-44fd-a6eb-aabbb2d7745b",
   "metadata": {},
   "outputs": [],
   "source": [
    "# env = SumoEnvironment(\n",
    "#         net_file=\"single-intersection/single-intersection.net.xml\",\n",
    "#         route_file=\"single-intersection/single-intersection.rou.xml\",\n",
    "#         out_csv_name=\"out_csv\",\n",
    "#         use_gui=True,\n",
    "#         num_seconds=500,\n",
    "#         min_green=5,\n",
    "#         max_green=10,\n",
    "#         observation_class = CustomEmergencyObservationFunction,\n",
    "#         reward_fn = emergency_reward_fn\n",
    "#     )\n",
    "\n",
    "# n_episodes = 1\n",
    "# for episode in range(n_episodes):\n",
    "#     obs = env.reset()\n",
    "#     done = {\"__all__\": False}\n",
    "#     while not done[\"__all__\"]:\n",
    "#         next_obs, reward, done, _ = env.step({})"
   ]
  },
  {
   "cell_type": "code",
   "execution_count": null,
   "id": "954d7618-1b51-458a-a456-f33f8a7ecd14",
   "metadata": {},
   "outputs": [],
   "source": []
  }
 ],
 "metadata": {
  "kernelspec": {
   "display_name": "ve",
   "language": "python",
   "name": "python3"
  },
  "language_info": {
   "codemirror_mode": {
    "name": "ipython",
    "version": 3
   },
   "file_extension": ".py",
   "mimetype": "text/x-python",
   "name": "python",
   "nbconvert_exporter": "python",
   "pygments_lexer": "ipython3",
   "version": "3.9.6"
  }
 },
 "nbformat": 4,
 "nbformat_minor": 5
}
